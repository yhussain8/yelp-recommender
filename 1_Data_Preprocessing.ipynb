{
 "cells": [
  {
   "cell_type": "markdown",
   "metadata": {},
   "source": [
    "# Data Acquisition & Preprocessing\n",
    "\n",
    "The purpose of this notebook is to describe the steps I took to acquire my data and the initial preprocessing required to wrangle it into a more usable format.\n",
    "\n",
    "The final output will be a series of saved .pkl (pickle) files that will be used in future notebooks.\n",
    "\n",
    "***\n",
    "\n",
    "The Yelp Open Dataset is available for download here: https://www.yelp.com/dataset\n",
    "\n",
    "A data dictionary along with an FAQ (Frequently Asked Questions) is available here: https://www.yelp.com/dataset/documentation/main\n",
    "\n",
    "After signing up with your name and email address, three different downloads are made available to us:\n",
    "1. The main dataset in JSON format (4.5 GB)\n",
    "2. A library of over 200,000 photos (7.0 GB)\n",
    "3. A small dataset recently added with data specifically related to COVID-19 (14 MB) \n",
    "\n",
    "For the purposes of this project, I will only be using the main dataset which downloads by default as a `yelp_dataset.tar` file.\n",
    "\n",
    "I downloaded and extracted this file within the `/data` folder I created within my highest-level project folder location.\n",
    "\n",
    "The `yelp_dataset.tar` file extracts itself into 5 seperate .json files within the `/data/yelp_dataset` folder, such as:\n",
    "- yelp_academic_dataset_business.json (153 MB)\n",
    "- yelp_academic_dataset_checkin.json (450 MB)\n",
    "- yelp_academic_dataset_review.json (6.33 GB)\n",
    "- yelp_academic_dataset_tip.json (264 MB)\n",
    "- yelp_academic_dataset_user.json (3.27 GB)\n",
    "\n",
    "Note: going forward, I will refer to each of the above files without the `yelp_academic_dataset_` prefix.\n",
    "\n",
    "For example, the `yelp_academic_dataset_bsuiness.json` will be referred to as `business.json`, or simply as the `business` table.\n",
    "\n",
    "***\n",
    "\n",
    "Right of the bat, I am faced with two challenges when working with this dataset:\n",
    "1. Rather than working with structured data using the .csv file type that we have been accustomed to working with in this program, the Yelp dataset contains unstructured data using the .json file type. As we will see later, some of the columns, specifically in the `business` table contain a series of dictionaries (key-value pairs) that are of a different size for each individual record.\n",
    "2. Two of the .json files, specifically the `review` and `user` tables, are so large that are not able to be read into memory by pandas and hence will require some extra effort to make them usable for our purposes. \n",
    "\n",
    "The Yelp Open Dataset contains data for 10 major metropolitan areas. For this pilot project, I have decided to limit the scope to only use data relevant to the city of Toronto. This will allow me to considerably reduce the size of this dataset (hopefully, by a factor of 10 or more) and hence allow me to work with all of required data in-memory.\n",
    "\n",
    "The remainder of this notebook is broken into 5 sections, 1 for each .json file.\n",
    "\n",
    "I will first filter the data in the `business` table down to only those businesses found within Toronto and then filter each of the remaining tables by data only relevant to these Toronto businesses.\n",
    "\n",
    "***"
   ]
  },
  {
   "cell_type": "code",
   "execution_count": 1,
   "metadata": {},
   "outputs": [],
   "source": [
    "# Import Python libraries as needed\n",
    "import pandas as pd\n",
    "import matplotlib.pyplot as plt\n",
    "from sklearn.preprocessing import MultiLabelBinarizer"
   ]
  },
  {
   "cell_type": "markdown",
   "metadata": {},
   "source": [
    "## 1.) BUSINESS TABLE"
   ]
  },
  {
   "cell_type": "code",
   "execution_count": 2,
   "metadata": {},
   "outputs": [],
   "source": [
    "# Read in business table\n",
    "business = pd.read_json('data/yelp_dataset/yelp_academic_dataset_business.json', lines = True)"
   ]
  },
  {
   "cell_type": "code",
   "execution_count": 3,
   "metadata": {},
   "outputs": [
    {
     "name": "stdout",
     "output_type": "stream",
     "text": [
      "<class 'pandas.core.frame.DataFrame'>\n",
      "RangeIndex: 209393 entries, 0 to 209392\n",
      "Data columns (total 14 columns):\n",
      " #   Column        Non-Null Count   Dtype  \n",
      "---  ------        --------------   -----  \n",
      " 0   business_id   209393 non-null  object \n",
      " 1   name          209393 non-null  object \n",
      " 2   address       209393 non-null  object \n",
      " 3   city          209393 non-null  object \n",
      " 4   state         209393 non-null  object \n",
      " 5   postal_code   209393 non-null  object \n",
      " 6   latitude      209393 non-null  float64\n",
      " 7   longitude     209393 non-null  float64\n",
      " 8   stars         209393 non-null  float64\n",
      " 9   review_count  209393 non-null  int64  \n",
      " 10  is_open       209393 non-null  int64  \n",
      " 11  attributes    180348 non-null  object \n",
      " 12  categories    208869 non-null  object \n",
      " 13  hours         164550 non-null  object \n",
      "dtypes: float64(3), int64(2), object(9)\n",
      "memory usage: 22.4+ MB\n"
     ]
    }
   ],
   "source": [
    "# Review contents of business table\n",
    "business.info()"
   ]
  },
  {
   "cell_type": "code",
   "execution_count": 4,
   "metadata": {},
   "outputs": [
    {
     "data": {
      "text/html": [
       "<div>\n",
       "<style scoped>\n",
       "    .dataframe tbody tr th:only-of-type {\n",
       "        vertical-align: middle;\n",
       "    }\n",
       "\n",
       "    .dataframe tbody tr th {\n",
       "        vertical-align: top;\n",
       "    }\n",
       "\n",
       "    .dataframe thead th {\n",
       "        text-align: right;\n",
       "    }\n",
       "</style>\n",
       "<table border=\"1\" class=\"dataframe\">\n",
       "  <thead>\n",
       "    <tr style=\"text-align: right;\">\n",
       "      <th></th>\n",
       "      <th>business_id</th>\n",
       "      <th>name</th>\n",
       "      <th>address</th>\n",
       "      <th>city</th>\n",
       "      <th>state</th>\n",
       "      <th>postal_code</th>\n",
       "      <th>latitude</th>\n",
       "      <th>longitude</th>\n",
       "      <th>stars</th>\n",
       "      <th>review_count</th>\n",
       "      <th>is_open</th>\n",
       "      <th>attributes</th>\n",
       "      <th>categories</th>\n",
       "      <th>hours</th>\n",
       "    </tr>\n",
       "  </thead>\n",
       "  <tbody>\n",
       "    <tr>\n",
       "      <th>0</th>\n",
       "      <td>f9NumwFMBDn751xgFiRbNA</td>\n",
       "      <td>The Range At Lake Norman</td>\n",
       "      <td>10913 Bailey Rd</td>\n",
       "      <td>Cornelius</td>\n",
       "      <td>NC</td>\n",
       "      <td>28031</td>\n",
       "      <td>35.462724</td>\n",
       "      <td>-80.852612</td>\n",
       "      <td>3.5</td>\n",
       "      <td>36</td>\n",
       "      <td>1</td>\n",
       "      <td>{'BusinessAcceptsCreditCards': 'True', 'BikePa...</td>\n",
       "      <td>Active Life, Gun/Rifle Ranges, Guns &amp; Ammo, Sh...</td>\n",
       "      <td>{'Monday': '10:0-18:0', 'Tuesday': '11:0-20:0'...</td>\n",
       "    </tr>\n",
       "    <tr>\n",
       "      <th>1</th>\n",
       "      <td>Yzvjg0SayhoZgCljUJRF9Q</td>\n",
       "      <td>Carlos Santo, NMD</td>\n",
       "      <td>8880 E Via Linda, Ste 107</td>\n",
       "      <td>Scottsdale</td>\n",
       "      <td>AZ</td>\n",
       "      <td>85258</td>\n",
       "      <td>33.569404</td>\n",
       "      <td>-111.890264</td>\n",
       "      <td>5.0</td>\n",
       "      <td>4</td>\n",
       "      <td>1</td>\n",
       "      <td>{'GoodForKids': 'True', 'ByAppointmentOnly': '...</td>\n",
       "      <td>Health &amp; Medical, Fitness &amp; Instruction, Yoga,...</td>\n",
       "      <td>None</td>\n",
       "    </tr>\n",
       "    <tr>\n",
       "      <th>2</th>\n",
       "      <td>XNoUzKckATkOD1hP6vghZg</td>\n",
       "      <td>Felinus</td>\n",
       "      <td>3554 Rue Notre-Dame O</td>\n",
       "      <td>Montreal</td>\n",
       "      <td>QC</td>\n",
       "      <td>H4C 1P4</td>\n",
       "      <td>45.479984</td>\n",
       "      <td>-73.580070</td>\n",
       "      <td>5.0</td>\n",
       "      <td>5</td>\n",
       "      <td>1</td>\n",
       "      <td>None</td>\n",
       "      <td>Pets, Pet Services, Pet Groomers</td>\n",
       "      <td>None</td>\n",
       "    </tr>\n",
       "    <tr>\n",
       "      <th>3</th>\n",
       "      <td>6OAZjbxqM5ol29BuHsil3w</td>\n",
       "      <td>Nevada House of Hose</td>\n",
       "      <td>1015 Sharp Cir</td>\n",
       "      <td>North Las Vegas</td>\n",
       "      <td>NV</td>\n",
       "      <td>89030</td>\n",
       "      <td>36.219728</td>\n",
       "      <td>-115.127725</td>\n",
       "      <td>2.5</td>\n",
       "      <td>3</td>\n",
       "      <td>0</td>\n",
       "      <td>{'BusinessAcceptsCreditCards': 'True', 'ByAppo...</td>\n",
       "      <td>Hardware Stores, Home Services, Building Suppl...</td>\n",
       "      <td>{'Monday': '7:0-16:0', 'Tuesday': '7:0-16:0', ...</td>\n",
       "    </tr>\n",
       "    <tr>\n",
       "      <th>4</th>\n",
       "      <td>51M2Kk903DFYI6gnB5I6SQ</td>\n",
       "      <td>USE MY GUY SERVICES LLC</td>\n",
       "      <td>4827 E Downing Cir</td>\n",
       "      <td>Mesa</td>\n",
       "      <td>AZ</td>\n",
       "      <td>85205</td>\n",
       "      <td>33.428065</td>\n",
       "      <td>-111.726648</td>\n",
       "      <td>4.5</td>\n",
       "      <td>26</td>\n",
       "      <td>1</td>\n",
       "      <td>{'BusinessAcceptsCreditCards': 'True', 'ByAppo...</td>\n",
       "      <td>Home Services, Plumbing, Electricians, Handyma...</td>\n",
       "      <td>{'Monday': '0:0-0:0', 'Tuesday': '9:0-16:0', '...</td>\n",
       "    </tr>\n",
       "    <tr>\n",
       "      <th>...</th>\n",
       "      <td>...</td>\n",
       "      <td>...</td>\n",
       "      <td>...</td>\n",
       "      <td>...</td>\n",
       "      <td>...</td>\n",
       "      <td>...</td>\n",
       "      <td>...</td>\n",
       "      <td>...</td>\n",
       "      <td>...</td>\n",
       "      <td>...</td>\n",
       "      <td>...</td>\n",
       "      <td>...</td>\n",
       "      <td>...</td>\n",
       "      <td>...</td>\n",
       "    </tr>\n",
       "    <tr>\n",
       "      <th>209388</th>\n",
       "      <td>9Q0fPWAjUweoFDk0kafuzQ</td>\n",
       "      <td>Nishi Sushi</td>\n",
       "      <td>9750 Weston Road</td>\n",
       "      <td>Vaughan</td>\n",
       "      <td>ON</td>\n",
       "      <td>L4H 2P2</td>\n",
       "      <td>43.838555</td>\n",
       "      <td>-79.559823</td>\n",
       "      <td>4.0</td>\n",
       "      <td>5</td>\n",
       "      <td>0</td>\n",
       "      <td>{'Ambience': '{'romantic': False, 'intimate': ...</td>\n",
       "      <td>Japanese, Sushi Bars, Restaurants</td>\n",
       "      <td>{'Monday': '11:0-22:0', 'Tuesday': '11:0-22:0'...</td>\n",
       "    </tr>\n",
       "    <tr>\n",
       "      <th>209389</th>\n",
       "      <td>PotiAhtDMYMNsJCzV0oLAw</td>\n",
       "      <td>Walmart</td>\n",
       "      <td>3240 Wilkinson Blvd</td>\n",
       "      <td>Charlotte</td>\n",
       "      <td>NC</td>\n",
       "      <td>28208</td>\n",
       "      <td>35.226307</td>\n",
       "      <td>-80.893539</td>\n",
       "      <td>2.0</td>\n",
       "      <td>13</td>\n",
       "      <td>0</td>\n",
       "      <td>{'RestaurantsPriceRange2': '1', 'BusinessParki...</td>\n",
       "      <td>Department Stores, Food, Mobile Phones, Fashio...</td>\n",
       "      <td>None</td>\n",
       "    </tr>\n",
       "    <tr>\n",
       "      <th>209390</th>\n",
       "      <td>SYa2j1boLF8DcGVOYfHPcA</td>\n",
       "      <td>Five Guys</td>\n",
       "      <td>7014-590 E Camelback Rd</td>\n",
       "      <td>Scottsdale</td>\n",
       "      <td>AZ</td>\n",
       "      <td>85251</td>\n",
       "      <td>33.504062</td>\n",
       "      <td>-111.929431</td>\n",
       "      <td>3.5</td>\n",
       "      <td>97</td>\n",
       "      <td>1</td>\n",
       "      <td>{'BusinessAcceptsCreditCards': 'True', 'Restau...</td>\n",
       "      <td>American (New), Food, Burgers, Restaurants, Fa...</td>\n",
       "      <td>{'Monday': '11:0-22:0', 'Tuesday': '11:0-22:0'...</td>\n",
       "    </tr>\n",
       "    <tr>\n",
       "      <th>209391</th>\n",
       "      <td>RSSIsgO00OuWQTRoITacpA</td>\n",
       "      <td>Indian Trail Dog Training</td>\n",
       "      <td></td>\n",
       "      <td>Indian Trail</td>\n",
       "      <td>NC</td>\n",
       "      <td>28079</td>\n",
       "      <td>35.101965</td>\n",
       "      <td>-80.599385</td>\n",
       "      <td>5.0</td>\n",
       "      <td>3</td>\n",
       "      <td>1</td>\n",
       "      <td>None</td>\n",
       "      <td>Pet Services, Pet Training, Pets</td>\n",
       "      <td>{'Monday': '0:0-0:0', 'Tuesday': '7:0-19:0', '...</td>\n",
       "    </tr>\n",
       "    <tr>\n",
       "      <th>209392</th>\n",
       "      <td>tOcYmewXFhQeZh3V42ymwg</td>\n",
       "      <td>Kudlow Ye</td>\n",
       "      <td>21 St Clair Avenue E, Suite 401</td>\n",
       "      <td>Toronto</td>\n",
       "      <td>ON</td>\n",
       "      <td>M4T 1L9</td>\n",
       "      <td>43.688214</td>\n",
       "      <td>-79.392756</td>\n",
       "      <td>5.0</td>\n",
       "      <td>3</td>\n",
       "      <td>1</td>\n",
       "      <td>None</td>\n",
       "      <td>Tax Services, Professional Services, Accountan...</td>\n",
       "      <td>{'Monday': '9:0-18:0', 'Tuesday': '9:0-18:0', ...</td>\n",
       "    </tr>\n",
       "  </tbody>\n",
       "</table>\n",
       "<p>209393 rows × 14 columns</p>\n",
       "</div>"
      ],
      "text/plain": [
       "                   business_id                       name  \\\n",
       "0       f9NumwFMBDn751xgFiRbNA   The Range At Lake Norman   \n",
       "1       Yzvjg0SayhoZgCljUJRF9Q          Carlos Santo, NMD   \n",
       "2       XNoUzKckATkOD1hP6vghZg                    Felinus   \n",
       "3       6OAZjbxqM5ol29BuHsil3w       Nevada House of Hose   \n",
       "4       51M2Kk903DFYI6gnB5I6SQ    USE MY GUY SERVICES LLC   \n",
       "...                        ...                        ...   \n",
       "209388  9Q0fPWAjUweoFDk0kafuzQ                Nishi Sushi   \n",
       "209389  PotiAhtDMYMNsJCzV0oLAw                    Walmart   \n",
       "209390  SYa2j1boLF8DcGVOYfHPcA                  Five Guys   \n",
       "209391  RSSIsgO00OuWQTRoITacpA  Indian Trail Dog Training   \n",
       "209392  tOcYmewXFhQeZh3V42ymwg                  Kudlow Ye   \n",
       "\n",
       "                                address             city state postal_code  \\\n",
       "0                       10913 Bailey Rd        Cornelius    NC       28031   \n",
       "1             8880 E Via Linda, Ste 107       Scottsdale    AZ       85258   \n",
       "2                 3554 Rue Notre-Dame O         Montreal    QC     H4C 1P4   \n",
       "3                        1015 Sharp Cir  North Las Vegas    NV       89030   \n",
       "4                    4827 E Downing Cir             Mesa    AZ       85205   \n",
       "...                                 ...              ...   ...         ...   \n",
       "209388                 9750 Weston Road          Vaughan    ON     L4H 2P2   \n",
       "209389              3240 Wilkinson Blvd        Charlotte    NC       28208   \n",
       "209390          7014-590 E Camelback Rd       Scottsdale    AZ       85251   \n",
       "209391                                      Indian Trail    NC       28079   \n",
       "209392  21 St Clair Avenue E, Suite 401          Toronto    ON     M4T 1L9   \n",
       "\n",
       "         latitude   longitude  stars  review_count  is_open  \\\n",
       "0       35.462724  -80.852612    3.5            36        1   \n",
       "1       33.569404 -111.890264    5.0             4        1   \n",
       "2       45.479984  -73.580070    5.0             5        1   \n",
       "3       36.219728 -115.127725    2.5             3        0   \n",
       "4       33.428065 -111.726648    4.5            26        1   \n",
       "...           ...         ...    ...           ...      ...   \n",
       "209388  43.838555  -79.559823    4.0             5        0   \n",
       "209389  35.226307  -80.893539    2.0            13        0   \n",
       "209390  33.504062 -111.929431    3.5            97        1   \n",
       "209391  35.101965  -80.599385    5.0             3        1   \n",
       "209392  43.688214  -79.392756    5.0             3        1   \n",
       "\n",
       "                                               attributes  \\\n",
       "0       {'BusinessAcceptsCreditCards': 'True', 'BikePa...   \n",
       "1       {'GoodForKids': 'True', 'ByAppointmentOnly': '...   \n",
       "2                                                    None   \n",
       "3       {'BusinessAcceptsCreditCards': 'True', 'ByAppo...   \n",
       "4       {'BusinessAcceptsCreditCards': 'True', 'ByAppo...   \n",
       "...                                                   ...   \n",
       "209388  {'Ambience': '{'romantic': False, 'intimate': ...   \n",
       "209389  {'RestaurantsPriceRange2': '1', 'BusinessParki...   \n",
       "209390  {'BusinessAcceptsCreditCards': 'True', 'Restau...   \n",
       "209391                                               None   \n",
       "209392                                               None   \n",
       "\n",
       "                                               categories  \\\n",
       "0       Active Life, Gun/Rifle Ranges, Guns & Ammo, Sh...   \n",
       "1       Health & Medical, Fitness & Instruction, Yoga,...   \n",
       "2                        Pets, Pet Services, Pet Groomers   \n",
       "3       Hardware Stores, Home Services, Building Suppl...   \n",
       "4       Home Services, Plumbing, Electricians, Handyma...   \n",
       "...                                                   ...   \n",
       "209388                  Japanese, Sushi Bars, Restaurants   \n",
       "209389  Department Stores, Food, Mobile Phones, Fashio...   \n",
       "209390  American (New), Food, Burgers, Restaurants, Fa...   \n",
       "209391                   Pet Services, Pet Training, Pets   \n",
       "209392  Tax Services, Professional Services, Accountan...   \n",
       "\n",
       "                                                    hours  \n",
       "0       {'Monday': '10:0-18:0', 'Tuesday': '11:0-20:0'...  \n",
       "1                                                    None  \n",
       "2                                                    None  \n",
       "3       {'Monday': '7:0-16:0', 'Tuesday': '7:0-16:0', ...  \n",
       "4       {'Monday': '0:0-0:0', 'Tuesday': '9:0-16:0', '...  \n",
       "...                                                   ...  \n",
       "209388  {'Monday': '11:0-22:0', 'Tuesday': '11:0-22:0'...  \n",
       "209389                                               None  \n",
       "209390  {'Monday': '11:0-22:0', 'Tuesday': '11:0-22:0'...  \n",
       "209391  {'Monday': '0:0-0:0', 'Tuesday': '7:0-19:0', '...  \n",
       "209392  {'Monday': '9:0-18:0', 'Tuesday': '9:0-18:0', ...  \n",
       "\n",
       "[209393 rows x 14 columns]"
      ]
     },
     "execution_count": 4,
     "metadata": {},
     "output_type": "execute_result"
    }
   ],
   "source": [
    "# Review first and last few records of the business table\n",
    "business"
   ]
  },
  {
   "cell_type": "markdown",
   "metadata": {},
   "source": [
    "After reviewing the individual records of the business table, I have determined to take the following steps to filter down the number of records and hence reduce the scope of my recommendation system as follows:\n",
    "- Use the `city` and `state` columns to filter records for only those businesses within the City of Toronto\n",
    "- Use the `categories` column to filter records for only those businesses that are restaurants\n",
    "- Use the `is_open` column to filter out all records for businesses that are closed\n",
    "\n",
    "Furthermore, I will review and expand the `attributes` and `hours` columns, such that their values might be used to provide additional context and allow our users to further filter down our restaurant recommendations as per their preferences.\n",
    "\n",
    "***\n",
    "\n",
    "### 1.1) Filter down to businesses within the City of Toronto"
   ]
  },
  {
   "cell_type": "code",
   "execution_count": 5,
   "metadata": {},
   "outputs": [
    {
     "data": {
      "text/plain": [
       "AZ     60803\n",
       "NV     39084\n",
       "ON     36627\n",
       "OH     16392\n",
       "NC     16218\n",
       "PA     12376\n",
       "QC     10233\n",
       "AB      8682\n",
       "WI      5525\n",
       "IL      2034\n",
       "SC      1328\n",
       "CA        23\n",
       "NY        22\n",
       "TX         6\n",
       "WA         5\n",
       "AL         3\n",
       "FL         3\n",
       "GA         3\n",
       "CO         2\n",
       "UT         2\n",
       "BC         2\n",
       "NE         2\n",
       "MI         2\n",
       "VT         2\n",
       "CT         2\n",
       "AR         1\n",
       "AK         1\n",
       "OR         1\n",
       "XWY        1\n",
       "MB         1\n",
       "YT         1\n",
       "HI         1\n",
       "VA         1\n",
       "HPL        1\n",
       "MO         1\n",
       "DOW        1\n",
       "DUR        1\n",
       "Name: state, dtype: int64"
      ]
     },
     "execution_count": 5,
     "metadata": {},
     "output_type": "execute_result"
    }
   ],
   "source": [
    "# Count the number of records for each state\n",
    "business['state'].value_counts()\n",
    "\n",
    "# Ontario has 36627 records"
   ]
  },
  {
   "cell_type": "code",
   "execution_count": 6,
   "metadata": {},
   "outputs": [],
   "source": [
    "# Filter and update the business table to only contain businesses in Ontario\n",
    "business = business[business['state'] == 'ON']"
   ]
  },
  {
   "cell_type": "code",
   "execution_count": 7,
   "metadata": {},
   "outputs": [
    {
     "data": {
      "text/plain": [
       "Toronto             20364\n",
       "Mississauga          3518\n",
       "Markham              1962\n",
       "North York           1318\n",
       "Scarborough          1244\n",
       "                    ...  \n",
       "TORONTO                 1\n",
       "Toronto-West            1\n",
       "West Toronto            1\n",
       "Thorncliffe Park        1\n",
       "Mississaugua            1\n",
       "Name: city, Length: 141, dtype: int64"
      ]
     },
     "execution_count": 7,
     "metadata": {},
     "output_type": "execute_result"
    }
   ],
   "source": [
    "# Review the values in the city column\n",
    "business['city'].value_counts()"
   ]
  },
  {
   "cell_type": "markdown",
   "metadata": {},
   "source": [
    "As we can see, the data in the `city` column is not clean. \n",
    "\n",
    "We have some values entirely in upper/lower case, some spelling mistakes, and also some values that are invalid (for example, Centre Island).\n",
    "\n",
    "First, I will attempt to reduce the errors by converting all values to lower case, and then I will review the list of cities to decide which ones to further filter upon."
   ]
  },
  {
   "cell_type": "code",
   "execution_count": 8,
   "metadata": {},
   "outputs": [
    {
     "data": {
      "text/plain": [
       "toronto            20368\n",
       "mississauga         3518\n",
       "markham             1963\n",
       "north york          1320\n",
       "scarborough         1244\n",
       "                   ...  \n",
       "norval                 1\n",
       "ansnorveldt            1\n",
       "east gwilimbury        1\n",
       "yorkdale               1\n",
       "palgrave               1\n",
       "Name: city, Length: 130, dtype: int64"
      ]
     },
     "execution_count": 8,
     "metadata": {},
     "output_type": "execute_result"
    }
   ],
   "source": [
    "# Convert list of cities to lower case, and count the number of unique values\n",
    "business['city'].str.lower().value_counts()"
   ]
  },
  {
   "cell_type": "markdown",
   "metadata": {},
   "source": [
    "Looks like we have reduced the unique city values from 141 to 130, a minor decrease.\n",
    "\n",
    "Here, I have decided to further limit the scope of this project to only consider specifically those city names that fall within the official boundaries within the City of Toronto and not the Greater Toronto Area.\n",
    "\n",
    "Given more time, I would have liked to investigate and research each of the 130 city names to determine exactly which to include. However, for this pilot project, I will review only top 50 cities with the highest counts and will make snap judgement without any research."
   ]
  },
  {
   "cell_type": "code",
   "execution_count": 9,
   "metadata": {},
   "outputs": [
    {
     "data": {
      "text/plain": [
       "toronto                      20368\n",
       "mississauga                   3518\n",
       "markham                       1963\n",
       "north york                    1320\n",
       "scarborough                   1244\n",
       "richmond hill                 1152\n",
       "brampton                      1146\n",
       "vaughan                       1045\n",
       "etobicoke                      843\n",
       "thornhill                      433\n",
       "newmarket                      412\n",
       "oakville                       403\n",
       "pickering                      371\n",
       "ajax                           343\n",
       "whitby                         323\n",
       "aurora                         281\n",
       "woodbridge                     264\n",
       "east york                      166\n",
       "concord                        140\n",
       "york                           117\n",
       "stouffville                     76\n",
       "maple                           67\n",
       "unionville                      57\n",
       "whitchurch-stouffville          56\n",
       "bolton                          55\n",
       "georgetown                      40\n",
       "halton hills                    38\n",
       "bradford                        36\n",
       "caledon                         35\n",
       "east gwillimbury                27\n",
       "king city                       26\n",
       "bradford west gwillimbury       19\n",
       "milton                          15\n",
       "uxbridge                        12\n",
       "schomberg                       10\n",
       "brooklin                        10\n",
       "caledon east                    10\n",
       "willowdale                       8\n",
       "kleinburg                        8\n",
       "nobleton                         7\n",
       "mount albert                     7\n",
       "gormley                          6\n",
       "rexdale                          6\n",
       "tottenham                        6\n",
       "don mills                        5\n",
       "downsview                        5\n",
       "beeton                           5\n",
       "downtown toronto                 4\n",
       "holland landing                  4\n",
       "king                             4\n",
       "Name: city, dtype: int64"
      ]
     },
     "execution_count": 9,
     "metadata": {},
     "output_type": "execute_result"
    }
   ],
   "source": [
    "# Convert list of cities to lower case, and count the number of unique values\n",
    "city_names = business['city'].str.lower().value_counts()\n",
    "city_names.head(50)"
   ]
  },
  {
   "cell_type": "code",
   "execution_count": 10,
   "metadata": {},
   "outputs": [],
   "source": [
    "# Save the selected cities from above list of 50 into a smaller list\n",
    "selected_city_names = ['toronto', 'north york', 'scarborough', 'etobicoke', 'east york', 'york', 'don mills']"
   ]
  },
  {
   "cell_type": "code",
   "execution_count": 11,
   "metadata": {},
   "outputs": [
    {
     "name": "stdout",
     "output_type": "stream",
     "text": [
      "Total value count for selected city names: 24063\n"
     ]
    },
    {
     "data": {
      "text/plain": [
       "toronto        20368\n",
       "north york      1320\n",
       "scarborough     1244\n",
       "etobicoke        843\n",
       "east york        166\n",
       "york             117\n",
       "don mills          5\n",
       "Name: city, dtype: int64"
      ]
     },
     "execution_count": 11,
     "metadata": {},
     "output_type": "execute_result"
    }
   ],
   "source": [
    "# Confirm city filter is working as intended and count the total number of selected records\n",
    "print('Total value count for selected city names:', city_names[selected_city_names].sum())\n",
    "city_names[selected_city_names]"
   ]
  },
  {
   "cell_type": "code",
   "execution_count": 12,
   "metadata": {},
   "outputs": [
    {
     "data": {
      "text/plain": [
       "24063"
      ]
     },
     "execution_count": 12,
     "metadata": {},
     "output_type": "execute_result"
    }
   ],
   "source": [
    "# Filter the business table itself using the list of selected cities and confirm sum is same as total value count above\n",
    "business[business['city'].str.lower().isin(selected_city_names)]['city'].value_counts().sum()"
   ]
  },
  {
   "cell_type": "code",
   "execution_count": null,
   "metadata": {},
   "outputs": [],
   "source": []
  },
  {
   "cell_type": "code",
   "execution_count": 13,
   "metadata": {},
   "outputs": [],
   "source": [
    "# Filter and update the business table using the list of selected city names\n",
    "business = business[business['city'].str.lower().isin(selected_city_names)]"
   ]
  },
  {
   "cell_type": "code",
   "execution_count": 14,
   "metadata": {},
   "outputs": [
    {
     "data": {
      "text/plain": [
       "0.11491788168658933"
      ]
     },
     "execution_count": 14,
     "metadata": {},
     "output_type": "execute_result"
    }
   ],
   "source": [
    "# Divide current record count of business table vs. original\n",
    "24063/209393"
   ]
  },
  {
   "cell_type": "markdown",
   "metadata": {},
   "source": [
    "***\n",
    "\n",
    "### 1.2) Filter down businesses to those that are restaurants only\n",
    "\n",
    "We will next take a look at the categories column and further filter our records by a selected group of categories.\n",
    "\n",
    "At first we notice that each business can have a list of categories assigned to it.  In order to further analyze the individual categorical values, we will create a transform the column into a category matrix for further analysis."
   ]
  },
  {
   "cell_type": "code",
   "execution_count": 15,
   "metadata": {},
   "outputs": [
    {
     "data": {
      "text/plain": [
       "Coffee & Tea, Food                                                                                           224\n",
       "Food, Coffee & Tea                                                                                           221\n",
       "Hair Salons, Beauty & Spas                                                                                   171\n",
       "Beauty & Spas, Hair Salons                                                                                   171\n",
       "Restaurants, Chinese                                                                                         158\n",
       "                                                                                                            ... \n",
       "Bike Repair/Maintenance, Professional Services, Shopping, Local Services, Sporting Goods, Bikes                1\n",
       "Sandwiches, Restaurants, Breakfast & Brunch, Delis, Diners                                                     1\n",
       "Fashion, Women's Clothing, Accessories, Shoe Stores, Men's Clothing, Department Stores, Jewelry, Shopping      1\n",
       "Day Spas, Skin Care, Beauty & Spas                                                                             1\n",
       "Local Services, Home Services, Carpet Cleaning                                                                 1\n",
       "Name: categories, Length: 13721, dtype: int64"
      ]
     },
     "execution_count": 15,
     "metadata": {},
     "output_type": "execute_result"
    }
   ],
   "source": [
    "# Review the unique values in the categories column\n",
    "business['categories'].value_counts()"
   ]
  },
  {
   "cell_type": "code",
   "execution_count": 16,
   "metadata": {},
   "outputs": [
    {
     "name": "stdout",
     "output_type": "stream",
     "text": [
      "Martial Arts, Gyms, Fitness & Instruction, Active Life\n",
      "<class 'str'> \n",
      "\n",
      "['Martial Arts', 'Gyms', 'Fitness & Instruction', 'Active Life']\n",
      "<class 'list'>\n"
     ]
    }
   ],
   "source": [
    "# Review the first value in the categories column and its data type\n",
    "print(business['categories'].iloc[0])\n",
    "print(type(business['categories'].iloc[0]),'\\n')\n",
    "\n",
    "# Split the first value in the categories column by the comma and review its data type\n",
    "print(business['categories'].str.split(', ').iloc[0])\n",
    "print(type(business['categories'].str.split(', ').iloc[0]))"
   ]
  },
  {
   "cell_type": "markdown",
   "metadata": {},
   "source": [
    "Thus we will take the list of values stored as a string data type and convert it into a list.  Then we will use the `MultiLabelBinarizer` function via the `sklearn` package to break apart each of these individual category values into its own column."
   ]
  },
  {
   "cell_type": "code",
   "execution_count": 17,
   "metadata": {},
   "outputs": [],
   "source": [
    "# Convert categories column from a string type to a list of values\n",
    "category_lists = business['categories'].str.split(', ')"
   ]
  },
  {
   "cell_type": "code",
   "execution_count": 18,
   "metadata": {},
   "outputs": [],
   "source": [
    "# Drop all null values\n",
    "category_lists = category_lists.dropna()"
   ]
  },
  {
   "cell_type": "code",
   "execution_count": 19,
   "metadata": {},
   "outputs": [],
   "source": [
    "# Instantiate MLB\n",
    "mlb = MultiLabelBinarizer()\n",
    "\n",
    "# Transform the series containing the unqiue list of category values into an array\n",
    "category_mlb = mlb.fit_transform(category_lists)\n",
    "\n",
    "# Further transform said array into a data frame\n",
    "category_matrix = pd.DataFrame(category_mlb, columns = mlb.classes_, index = category_lists.index)"
   ]
  },
  {
   "cell_type": "code",
   "execution_count": 20,
   "metadata": {},
   "outputs": [
    {
     "data": {
      "text/plain": [
       "(24009, 957)"
      ]
     },
     "execution_count": 20,
     "metadata": {},
     "output_type": "execute_result"
    }
   ],
   "source": [
    "# Review shape of new data frame\n",
    "category_matrix.shape\n",
    "\n",
    "# 24009 records (same as the number of records in the business df less the dropped NA values)\n",
    "# 957 columns representing each unique category value"
   ]
  },
  {
   "cell_type": "code",
   "execution_count": 21,
   "metadata": {},
   "outputs": [
    {
     "data": {
      "text/plain": [
       "Restaurants                  10171\n",
       "Food                          5333\n",
       "Shopping                      3956\n",
       "Beauty & Spas                 2371\n",
       "Nightlife                     2019\n",
       "Bars                          1796\n",
       "Coffee & Tea                  1721\n",
       "Health & Medical              1345\n",
       "Local Services                1213\n",
       "Event Planning & Services     1159\n",
       "Fashion                       1109\n",
       "Specialty Food                1010\n",
       "Chinese                        965\n",
       "Sandwiches                     921\n",
       "Active Life                    907\n",
       "Hair Salons                    883\n",
       "Breakfast & Brunch             866\n",
       "Cafes                          836\n",
       "Home Services                  813\n",
       "Bakeries                       793\n",
       "dtype: int64"
      ]
     },
     "execution_count": 21,
     "metadata": {},
     "output_type": "execute_result"
    }
   ],
   "source": [
    "# Review the sum total of each unique category value\n",
    "category_matrix.sum().sort_values(ascending = False).head(20)"
   ]
  },
  {
   "cell_type": "markdown",
   "metadata": {},
   "source": [
    "As we can see above, our `business` table contains a varied set of business types (i.e. Shopping, Health & Medical, Fashion etc.), not just limited to restaurants and other businesses that sell food or drink.\n",
    "\n",
    "The purpose of this pilot project is to exclusively make restaurant recommendations. Hence, I will now try to filter out all business values that do not belong to the `restaurant` category type, but before I do this, I want to make sure that: 1. the restaurant category is reliable enough such that there are no businesses that I would want to include in my recommender system that are not marked with the restaurant category."
   ]
  },
  {
   "cell_type": "code",
   "execution_count": 22,
   "metadata": {},
   "outputs": [],
   "source": [
    "# Save the list of unique category values and their value counts\n",
    "list_of_categories = category_matrix.sum().sort_values(ascending = True)"
   ]
  },
  {
   "cell_type": "code",
   "execution_count": 23,
   "metadata": {},
   "outputs": [
    {
     "data": {
      "image/png": "[encoded data removed]",
      "text/plain": [
       "<Figure size 720x936 with 1 Axes>"
      ]
     },
     "metadata": {
      "needs_background": "light"
     },
     "output_type": "display_data"
    }
   ],
   "source": [
    "# Create a visualization showing the top 50 category values for the report\n",
    "# Plot a horizontal bar chart for the sake of readability\n",
    "plt.figure(figsize = (10,13))\n",
    "plt.barh(list_of_categories.tail(50).index, list_of_categories.tail(50).values)\n",
    "plt.title('Top 50 Business Category Types Within City of Toronto')\n",
    "plt.ylabel('Business Category Names')\n",
    "plt.xlabel('Value Counts')\n",
    "plt.show()"
   ]
  },
  {
   "cell_type": "code",
   "execution_count": 24,
   "metadata": {},
   "outputs": [],
   "source": [
    "# Export list of category values and category matrix to a .csv file for further analysis if needed\n",
    "list_of_categories.to_csv('data/user/list_of_categories.csv')\n",
    "category_matrix.to_csv('data/user/category_matrix.csv')"
   ]
  },
  {
   "cell_type": "code",
   "execution_count": 25,
   "metadata": {},
   "outputs": [
    {
     "data": {
      "text/plain": [
       "Shopping                     3611\n",
       "Beauty & Spas                2342\n",
       "Health & Medical             1304\n",
       "Local Services               1182\n",
       "Fashion                      1076\n",
       "Hair Salons                   879\n",
       "Active Life                   879\n",
       "Home Services                 804\n",
       "Automotive                    739\n",
       "Event Planning & Services     654\n",
       "Nightlife                     622\n",
       "Nail Salons                   613\n",
       "Hotels & Travel               565\n",
       "Home & Garden                 557\n",
       "Arts & Entertainment          536\n",
       "Hair Removal                  528\n",
       "Fitness & Instruction         495\n",
       "Women's Clothing              473\n",
       "Bars                          471\n",
       "Skin Care                     412\n",
       "Pets                          411\n",
       "Professional Services         408\n",
       "Day Spas                      384\n",
       "Massage                       372\n",
       "Auto Repair                   370\n",
       "Accessories                   343\n",
       "Doctors                       318\n",
       "Education                     313\n",
       "Men's Clothing                291\n",
       "Sporting Goods                283\n",
       "Pet Services                  277\n",
       "Flowers & Gifts               261\n",
       "Waxing                        252\n",
       "Arts & Crafts                 251\n",
       "Cosmetics & Beauty Supply     245\n",
       "Laundry Services              245\n",
       "Dry Cleaning & Laundry        243\n",
       "Music & Video                 231\n",
       "Jewelry                       231\n",
       "Mags                          231\n",
       "Books                         231\n",
       "Dentists                      227\n",
       "Home Decor                    223\n",
       "Eyelash Service               222\n",
       "Gyms                          219\n",
       "Barbers                       216\n",
       "Venues & Event Spaces         209\n",
       "Medical Centers               205\n",
       "Furniture Stores              205\n",
       "Shoe Stores                   202\n",
       "dtype: int64"
      ]
     },
     "execution_count": 25,
     "metadata": {},
     "output_type": "execute_result"
    }
   ],
   "source": [
    "# Review all value counts for each category column where the Restaurant & Food categories are equal to 0\n",
    "category_matrix[(category_matrix['Restaurants'] == 0) & (category_matrix['Food'] == 0)].sum().sort_values(ascending = False).head(50)"
   ]
  },
  {
   "cell_type": "markdown",
   "metadata": {},
   "source": [
    "Here we see that selecting just these two categories takes care of all of the other minor food related categories. The only exceptions might be Nightlife & Bars, but for I am okay with excluding these categories to focus better on making restaurant recommendations only.\n",
    "\n",
    "Also, unlike the `city` column, the `categories` column looks clean and does not include any typos."
   ]
  },
  {
   "cell_type": "code",
   "execution_count": 26,
   "metadata": {},
   "outputs": [
    {
     "data": {
      "text/plain": [
       "Food                         2654\n",
       "Coffee & Tea                  853\n",
       "Specialty Food                554\n",
       "Bakeries                      437\n",
       "Grocery                       422\n",
       "Desserts                      345\n",
       "Shopping                      238\n",
       "Ice Cream & Frozen Yogurt     212\n",
       "Juice Bars & Smoothies        142\n",
       "Wine & Spirits                138\n",
       "Beer                          138\n",
       "Bubble Tea                    126\n",
       "Health Markets                113\n",
       "Convenience Stores            105\n",
       "Event Planning & Services      95\n",
       "Tea Rooms                      92\n",
       "Chocolatiers & Shops           77\n",
       "Meat Shops                     66\n",
       "Caterers                       63\n",
       "Nightlife                      59\n",
       "Donuts                         59\n",
       "Bars                           54\n",
       "Food Delivery Services         53\n",
       "Fruits & Veggies               49\n",
       "Seafood Markets                49\n",
       "Cheese Shops                   45\n",
       "Arts & Entertainment           44\n",
       "Butcher                        41\n",
       "Breweries                      41\n",
       "Health & Medical               37\n",
       "Bagels                         37\n",
       "Farmers Market                 36\n",
       "Ethnic Food                    36\n",
       "Patisserie/Cake Shop           35\n",
       "Organic Stores                 32\n",
       "Candy Stores                   32\n",
       "Local Flavor                   31\n",
       "Flowers & Gifts                31\n",
       "Imported Food                  29\n",
       "Fashion                        27\n",
       "Food Trucks                    24\n",
       "Custom Cakes                   24\n",
       "Pharmacy                       21\n",
       "Drugstores                     21\n",
       "Local Services                 19\n",
       "Florists                       19\n",
       "Do-It-Yourself Food            18\n",
       "Street Vendors                 18\n",
       "Home & Garden                  18\n",
       "Macarons                       18\n",
       "dtype: int64"
      ]
     },
     "execution_count": 26,
     "metadata": {},
     "output_type": "execute_result"
    }
   ],
   "source": [
    "# Review all value counts for each category column that coincides with the Food category but not with the Restaurant category\n",
    "category_matrix[(category_matrix['Restaurants'] == 0) & category_matrix['Food'] == 1].sum().sort_values(ascending = False).head(50)"
   ]
  },
  {
   "cell_type": "markdown",
   "metadata": {},
   "source": [
    "Here we see that non-Restaurant, but Food-type businesses are fairly generic and include Coffee shops, Grocery chains, Dessert shops, etc. While I would like to expand on the scope of my project to include some of these businesses in the future, at the moment, this analysis has reassured me that I can safely filter the `business` table to only those records which are marked with the `Restaurants` tag within the `categories` column."
   ]
  },
  {
   "cell_type": "code",
   "execution_count": 27,
   "metadata": {},
   "outputs": [],
   "source": [
    "# Filter and update the business table by excluding all records where the 'categories' column is blank\n",
    "business = business[business['categories'].isna() == False]"
   ]
  },
  {
   "cell_type": "code",
   "execution_count": 28,
   "metadata": {},
   "outputs": [],
   "source": [
    "# Filter and update the business table to exclude all records which do not include the 'Restaurants' tag within the 'categories' column\n",
    "business = business[business['categories'].str.contains('Restaurants')]"
   ]
  },
  {
   "cell_type": "markdown",
   "metadata": {},
   "source": [
    "***\n",
    "\n",
    "### 1.3) Filter out all businesses that are closed\n",
    "\n",
    "Here we will exclude all businesses that are marked as closed, using the `is_open` column."
   ]
  },
  {
   "cell_type": "code",
   "execution_count": 29,
   "metadata": {},
   "outputs": [],
   "source": [
    "# Filter and update the business table to exclude all Restaurants marked as closed\n",
    "business = business[business['is_open'] == 1]"
   ]
  },
  {
   "cell_type": "markdown",
   "metadata": {},
   "source": [
    "***\n",
    "\n",
    "### 1.4) Further clean-up of the `business` table"
   ]
  },
  {
   "cell_type": "code",
   "execution_count": 30,
   "metadata": {},
   "outputs": [],
   "source": [
    "# Drop the 'state' and 'is_open' columns from the business table as they are now redundant\n",
    "business.drop(columns = ['state', 'is_open'], inplace = True)"
   ]
  },
  {
   "cell_type": "code",
   "execution_count": 31,
   "metadata": {},
   "outputs": [],
   "source": [
    "# Reset the index of the business table now that we have finished filtering down the number of records\n",
    "business.reset_index(inplace = True)"
   ]
  },
  {
   "cell_type": "code",
   "execution_count": 32,
   "metadata": {},
   "outputs": [],
   "source": [
    "# Drop the newly created index column\n",
    "business.drop(columns = 'index', inplace = True)"
   ]
  },
  {
   "cell_type": "markdown",
   "metadata": {},
   "source": [
    "***\n",
    "\n",
    "### 1.5) Review and expand the `attributes` column"
   ]
  },
  {
   "cell_type": "code",
   "execution_count": 33,
   "metadata": {},
   "outputs": [
    {
     "name": "stderr",
     "output_type": "stream",
     "text": [
      "/Users/yhussain8/opt/anaconda3/lib/python3.7/site-packages/ipykernel_launcher.py:2: DeprecationWarning: The default dtype for empty Series will be 'object' instead of 'float64' in a future version. Specify a dtype explicitly to silence this warning.\n",
      "  \n"
     ]
    }
   ],
   "source": [
    "# Create an matrix of attribute values using the 'attributes' column from the 'business' table\n",
    "attribute_matrix = business.loc[:, 'attributes'].apply(lambda x: pd.Series(eval(str(x))))"
   ]
  },
  {
   "cell_type": "code",
   "execution_count": 34,
   "metadata": {},
   "outputs": [],
   "source": [
    "# Fill in all NA values with 'False'\n",
    "attribute_matrix.fillna('False', inplace = True)"
   ]
  },
  {
   "cell_type": "code",
   "execution_count": 35,
   "metadata": {},
   "outputs": [
    {
     "name": "stdout",
     "output_type": "stream",
     "text": [
      "<class 'pandas.core.frame.DataFrame'>\n",
      "RangeIndex: 6558 entries, 0 to 6557\n",
      "Data columns (total 37 columns):\n",
      " #   Column                      Non-Null Count  Dtype \n",
      "---  ------                      --------------  ----- \n",
      " 0   RestaurantsTakeOut          6558 non-null   object\n",
      " 1   Alcohol                     6558 non-null   object\n",
      " 2   GoodForKids                 6558 non-null   object\n",
      " 3   RestaurantsPriceRange2      6558 non-null   object\n",
      " 4   RestaurantsAttire           6558 non-null   object\n",
      " 5   RestaurantsDelivery         6558 non-null   object\n",
      " 6   Ambience                    6558 non-null   object\n",
      " 7   BusinessParking             6558 non-null   object\n",
      " 8   RestaurantsGoodForGroups    6558 non-null   object\n",
      " 9   RestaurantsReservations     6558 non-null   object\n",
      " 10  OutdoorSeating              6558 non-null   object\n",
      " 11  NoiseLevel                  6558 non-null   object\n",
      " 12  GoodForMeal                 6558 non-null   object\n",
      " 13  WiFi                        6558 non-null   object\n",
      " 14  BikeParking                 6558 non-null   object\n",
      " 15  RestaurantsTableService     6558 non-null   object\n",
      " 16  HasTV                       6558 non-null   object\n",
      " 17  Caters                      6558 non-null   object\n",
      " 18  DriveThru                   6558 non-null   object\n",
      " 19  DogsAllowed                 6558 non-null   object\n",
      " 20  WheelchairAccessible        6558 non-null   object\n",
      " 21  Music                       6558 non-null   object\n",
      " 22  HappyHour                   6558 non-null   object\n",
      " 23  BestNights                  6558 non-null   object\n",
      " 24  GoodForDancing              6558 non-null   object\n",
      " 25  CoatCheck                   6558 non-null   object\n",
      " 26  Smoking                     6558 non-null   object\n",
      " 27  BusinessAcceptsCreditCards  6558 non-null   object\n",
      " 28  BYOB                        6558 non-null   object\n",
      " 29  Corkage                     6558 non-null   object\n",
      " 30  ByAppointmentOnly           6558 non-null   object\n",
      " 31  DietaryRestrictions         6558 non-null   object\n",
      " 32  HairSpecializesIn           6558 non-null   object\n",
      " 33  AcceptsInsurance            6558 non-null   object\n",
      " 34  AgesAllowed                 6558 non-null   object\n",
      " 35  BusinessAcceptsBitcoin      6558 non-null   object\n",
      " 36  RestaurantsCounterService   6558 non-null   object\n",
      "dtypes: object(37)\n",
      "memory usage: 1.9+ MB\n"
     ]
    }
   ],
   "source": [
    "# Review of the list of all business attributes\n",
    "attribute_matrix.info()"
   ]
  },
  {
   "cell_type": "markdown",
   "metadata": {},
   "source": [
    "Here we see some interesting business attributes pertaining to restaurants, that our users might want to filter down their results by."
   ]
  },
  {
   "cell_type": "code",
   "execution_count": 36,
   "metadata": {},
   "outputs": [],
   "source": [
    "# Save the attribute matrix to a .csv file for further analysis if needed\n",
    "attribute_matrix.to_csv('data/user/attribute_matrix.csv')"
   ]
  },
  {
   "cell_type": "markdown",
   "metadata": {},
   "source": [
    "***\n",
    "\n",
    "### 1.6) Review and expand the `hours` column"
   ]
  },
  {
   "cell_type": "code",
   "execution_count": 37,
   "metadata": {},
   "outputs": [
    {
     "name": "stderr",
     "output_type": "stream",
     "text": [
      "/Users/yhussain8/opt/anaconda3/lib/python3.7/site-packages/ipykernel_launcher.py:2: DeprecationWarning: The default dtype for empty Series will be 'object' instead of 'float64' in a future version. Specify a dtype explicitly to silence this warning.\n",
      "  \n"
     ]
    }
   ],
   "source": [
    "# Create an matrix of business hours of operation values using the 'hours' column from the 'business' table\n",
    "hours_matrix = business.loc[:, 'hours'].apply(lambda x: pd.Series(eval(str(x))))"
   ]
  },
  {
   "cell_type": "code",
   "execution_count": 38,
   "metadata": {},
   "outputs": [],
   "source": [
    "# Save the hours of operation matrix to a .csv file for further analysis if needed\n",
    "hours_matrix.to_csv('data/user/hours_matrix.csv')"
   ]
  },
  {
   "cell_type": "code",
   "execution_count": 39,
   "metadata": {},
   "outputs": [
    {
     "data": {
      "text/html": [
       "<div>\n",
       "<style scoped>\n",
       "    .dataframe tbody tr th:only-of-type {\n",
       "        vertical-align: middle;\n",
       "    }\n",
       "\n",
       "    .dataframe tbody tr th {\n",
       "        vertical-align: top;\n",
       "    }\n",
       "\n",
       "    .dataframe thead th {\n",
       "        text-align: right;\n",
       "    }\n",
       "</style>\n",
       "<table border=\"1\" class=\"dataframe\">\n",
       "  <thead>\n",
       "    <tr style=\"text-align: right;\">\n",
       "      <th></th>\n",
       "      <th>Monday</th>\n",
       "      <th>Tuesday</th>\n",
       "      <th>Wednesday</th>\n",
       "      <th>Thursday</th>\n",
       "      <th>Friday</th>\n",
       "      <th>Saturday</th>\n",
       "      <th>Sunday</th>\n",
       "    </tr>\n",
       "  </thead>\n",
       "  <tbody>\n",
       "    <tr>\n",
       "      <th>0</th>\n",
       "      <td>11:0-22:0</td>\n",
       "      <td>11:0-22:0</td>\n",
       "      <td>12:0-22:0</td>\n",
       "      <td>11:0-22:0</td>\n",
       "      <td>11:0-22:0</td>\n",
       "      <td>11:0-22:0</td>\n",
       "      <td>11:0-22:0</td>\n",
       "    </tr>\n",
       "    <tr>\n",
       "      <th>1</th>\n",
       "      <td>NaN</td>\n",
       "      <td>NaN</td>\n",
       "      <td>NaN</td>\n",
       "      <td>NaN</td>\n",
       "      <td>NaN</td>\n",
       "      <td>NaN</td>\n",
       "      <td>NaN</td>\n",
       "    </tr>\n",
       "    <tr>\n",
       "      <th>2</th>\n",
       "      <td>0:0-0:0</td>\n",
       "      <td>0:0-0:0</td>\n",
       "      <td>0:0-0:0</td>\n",
       "      <td>0:0-0:0</td>\n",
       "      <td>0:0-0:0</td>\n",
       "      <td>0:0-0:0</td>\n",
       "      <td>0:0-0:0</td>\n",
       "    </tr>\n",
       "    <tr>\n",
       "      <th>3</th>\n",
       "      <td>NaN</td>\n",
       "      <td>NaN</td>\n",
       "      <td>NaN</td>\n",
       "      <td>NaN</td>\n",
       "      <td>NaN</td>\n",
       "      <td>NaN</td>\n",
       "      <td>NaN</td>\n",
       "    </tr>\n",
       "    <tr>\n",
       "      <th>4</th>\n",
       "      <td>0:0-0:0</td>\n",
       "      <td>7:30-17:0</td>\n",
       "      <td>7:30-17:0</td>\n",
       "      <td>7:30-17:0</td>\n",
       "      <td>7:30-17:0</td>\n",
       "      <td>8:30-17:0</td>\n",
       "      <td>8:30-17:0</td>\n",
       "    </tr>\n",
       "    <tr>\n",
       "      <th>...</th>\n",
       "      <td>...</td>\n",
       "      <td>...</td>\n",
       "      <td>...</td>\n",
       "      <td>...</td>\n",
       "      <td>...</td>\n",
       "      <td>...</td>\n",
       "      <td>...</td>\n",
       "    </tr>\n",
       "    <tr>\n",
       "      <th>6553</th>\n",
       "      <td>12:0-23:0</td>\n",
       "      <td>12:0-23:0</td>\n",
       "      <td>12:0-23:0</td>\n",
       "      <td>12:0-23:0</td>\n",
       "      <td>12:0-23:0</td>\n",
       "      <td>12:0-23:0</td>\n",
       "      <td>15:0-22:0</td>\n",
       "    </tr>\n",
       "    <tr>\n",
       "      <th>6554</th>\n",
       "      <td>11:0-23:0</td>\n",
       "      <td>11:0-23:0</td>\n",
       "      <td>11:0-23:0</td>\n",
       "      <td>11:0-23:0</td>\n",
       "      <td>11:0-23:0</td>\n",
       "      <td>11:0-23:0</td>\n",
       "      <td>12:0-22:0</td>\n",
       "    </tr>\n",
       "    <tr>\n",
       "      <th>6555</th>\n",
       "      <td>11:30-22:0</td>\n",
       "      <td>11:30-22:0</td>\n",
       "      <td>11:30-22:0</td>\n",
       "      <td>11:30-22:0</td>\n",
       "      <td>11:30-22:0</td>\n",
       "      <td>11:30-22:0</td>\n",
       "      <td>11:30-22:0</td>\n",
       "    </tr>\n",
       "    <tr>\n",
       "      <th>6556</th>\n",
       "      <td>11:0-21:0</td>\n",
       "      <td>11:0-21:0</td>\n",
       "      <td>11:0-21:0</td>\n",
       "      <td>11:0-21:0</td>\n",
       "      <td>11:0-21:0</td>\n",
       "      <td>11:0-20:0</td>\n",
       "      <td>NaN</td>\n",
       "    </tr>\n",
       "    <tr>\n",
       "      <th>6557</th>\n",
       "      <td>NaN</td>\n",
       "      <td>NaN</td>\n",
       "      <td>NaN</td>\n",
       "      <td>NaN</td>\n",
       "      <td>NaN</td>\n",
       "      <td>NaN</td>\n",
       "      <td>NaN</td>\n",
       "    </tr>\n",
       "  </tbody>\n",
       "</table>\n",
       "<p>6558 rows × 7 columns</p>\n",
       "</div>"
      ],
      "text/plain": [
       "          Monday     Tuesday   Wednesday    Thursday      Friday    Saturday  \\\n",
       "0      11:0-22:0   11:0-22:0   12:0-22:0   11:0-22:0   11:0-22:0   11:0-22:0   \n",
       "1            NaN         NaN         NaN         NaN         NaN         NaN   \n",
       "2        0:0-0:0     0:0-0:0     0:0-0:0     0:0-0:0     0:0-0:0     0:0-0:0   \n",
       "3            NaN         NaN         NaN         NaN         NaN         NaN   \n",
       "4        0:0-0:0   7:30-17:0   7:30-17:0   7:30-17:0   7:30-17:0   8:30-17:0   \n",
       "...          ...         ...         ...         ...         ...         ...   \n",
       "6553   12:0-23:0   12:0-23:0   12:0-23:0   12:0-23:0   12:0-23:0   12:0-23:0   \n",
       "6554   11:0-23:0   11:0-23:0   11:0-23:0   11:0-23:0   11:0-23:0   11:0-23:0   \n",
       "6555  11:30-22:0  11:30-22:0  11:30-22:0  11:30-22:0  11:30-22:0  11:30-22:0   \n",
       "6556   11:0-21:0   11:0-21:0   11:0-21:0   11:0-21:0   11:0-21:0   11:0-20:0   \n",
       "6557         NaN         NaN         NaN         NaN         NaN         NaN   \n",
       "\n",
       "          Sunday  \n",
       "0      11:0-22:0  \n",
       "1            NaN  \n",
       "2        0:0-0:0  \n",
       "3            NaN  \n",
       "4      8:30-17:0  \n",
       "...          ...  \n",
       "6553   15:0-22:0  \n",
       "6554   12:0-22:0  \n",
       "6555  11:30-22:0  \n",
       "6556         NaN  \n",
       "6557         NaN  \n",
       "\n",
       "[6558 rows x 7 columns]"
      ]
     },
     "execution_count": 39,
     "metadata": {},
     "output_type": "execute_result"
    }
   ],
   "source": [
    "hours_matrix"
   ]
  },
  {
   "cell_type": "code",
   "execution_count": 40,
   "metadata": {},
   "outputs": [],
   "source": [
    "# Save the final version of the business table as a .pkl (pickle) file for use in other notebooks\n",
    "business.to_pickle('data/user/business.pkl')"
   ]
  },
  {
   "cell_type": "markdown",
   "metadata": {},
   "source": [
    "***\n",
    "\n",
    "## 2.) CHECK-IN TABLE"
   ]
  },
  {
   "cell_type": "code",
   "execution_count": 41,
   "metadata": {},
   "outputs": [],
   "source": [
    "# Read in checkin table\n",
    "checkin = pd.read_json('data/yelp_dataset/yelp_academic_dataset_checkin.json', lines = True)"
   ]
  },
  {
   "cell_type": "code",
   "execution_count": 42,
   "metadata": {},
   "outputs": [
    {
     "name": "stdout",
     "output_type": "stream",
     "text": [
      "<class 'pandas.core.frame.DataFrame'>\n",
      "RangeIndex: 175187 entries, 0 to 175186\n",
      "Data columns (total 2 columns):\n",
      " #   Column       Non-Null Count   Dtype \n",
      "---  ------       --------------   ----- \n",
      " 0   business_id  175187 non-null  object\n",
      " 1   date         175187 non-null  object\n",
      "dtypes: object(2)\n",
      "memory usage: 2.7+ MB\n"
     ]
    }
   ],
   "source": [
    "# Review the contents of the checkin table\n",
    "checkin.info()"
   ]
  },
  {
   "cell_type": "code",
   "execution_count": 43,
   "metadata": {},
   "outputs": [
    {
     "data": {
      "text/html": [
       "<div>\n",
       "<style scoped>\n",
       "    .dataframe tbody tr th:only-of-type {\n",
       "        vertical-align: middle;\n",
       "    }\n",
       "\n",
       "    .dataframe tbody tr th {\n",
       "        vertical-align: top;\n",
       "    }\n",
       "\n",
       "    .dataframe thead th {\n",
       "        text-align: right;\n",
       "    }\n",
       "</style>\n",
       "<table border=\"1\" class=\"dataframe\">\n",
       "  <thead>\n",
       "    <tr style=\"text-align: right;\">\n",
       "      <th></th>\n",
       "      <th>business_id</th>\n",
       "      <th>date</th>\n",
       "    </tr>\n",
       "  </thead>\n",
       "  <tbody>\n",
       "    <tr>\n",
       "      <th>0</th>\n",
       "      <td>--1UhMGODdWsrMastO9DZw</td>\n",
       "      <td>2016-04-26 19:49:16, 2016-08-30 18:36:57, 2016...</td>\n",
       "    </tr>\n",
       "    <tr>\n",
       "      <th>1</th>\n",
       "      <td>--6MefnULPED_I942VcFNA</td>\n",
       "      <td>2011-06-04 18:22:23, 2011-07-23 23:51:33, 2012...</td>\n",
       "    </tr>\n",
       "    <tr>\n",
       "      <th>2</th>\n",
       "      <td>--7zmmkVg-IMGaXbuVd0SQ</td>\n",
       "      <td>2014-12-29 19:25:50, 2015-01-17 01:49:14, 2015...</td>\n",
       "    </tr>\n",
       "    <tr>\n",
       "      <th>3</th>\n",
       "      <td>--8LPVSo5i0Oo61X01sV9A</td>\n",
       "      <td>2016-07-08 16:43:30</td>\n",
       "    </tr>\n",
       "    <tr>\n",
       "      <th>4</th>\n",
       "      <td>--9QQLMTbFzLJ_oT-ON3Xw</td>\n",
       "      <td>2010-06-26 17:39:07, 2010-08-01 20:06:21, 2010...</td>\n",
       "    </tr>\n",
       "    <tr>\n",
       "      <th>...</th>\n",
       "      <td>...</td>\n",
       "      <td>...</td>\n",
       "    </tr>\n",
       "    <tr>\n",
       "      <th>175182</th>\n",
       "      <td>zzvlwkcNR1CCqOPXwuvz2A</td>\n",
       "      <td>2017-05-06 20:05:15, 2017-05-12 22:37:03, 2017...</td>\n",
       "    </tr>\n",
       "    <tr>\n",
       "      <th>175183</th>\n",
       "      <td>zzwaS0xn1MVEPEf0hNLjew</td>\n",
       "      <td>2010-02-16 02:09:56, 2010-07-05 05:40:48, 2010...</td>\n",
       "    </tr>\n",
       "    <tr>\n",
       "      <th>175184</th>\n",
       "      <td>zzwhN7x37nyjP0ZM8oiHmw</td>\n",
       "      <td>2016-03-06 13:27:02, 2016-03-09 00:41:53, 2016...</td>\n",
       "    </tr>\n",
       "    <tr>\n",
       "      <th>175185</th>\n",
       "      <td>zzwicjPC9g246MK2M1ZFBA</td>\n",
       "      <td>2012-09-22 00:26:15, 2012-09-23 20:12:00, 2012...</td>\n",
       "    </tr>\n",
       "    <tr>\n",
       "      <th>175186</th>\n",
       "      <td>zzzaIBwimxVej4tY6qFOUQ</td>\n",
       "      <td>2012-10-12 16:26:35, 2012-10-19 19:31:14, 2012...</td>\n",
       "    </tr>\n",
       "  </tbody>\n",
       "</table>\n",
       "<p>175187 rows × 2 columns</p>\n",
       "</div>"
      ],
      "text/plain": [
       "                   business_id  \\\n",
       "0       --1UhMGODdWsrMastO9DZw   \n",
       "1       --6MefnULPED_I942VcFNA   \n",
       "2       --7zmmkVg-IMGaXbuVd0SQ   \n",
       "3       --8LPVSo5i0Oo61X01sV9A   \n",
       "4       --9QQLMTbFzLJ_oT-ON3Xw   \n",
       "...                        ...   \n",
       "175182  zzvlwkcNR1CCqOPXwuvz2A   \n",
       "175183  zzwaS0xn1MVEPEf0hNLjew   \n",
       "175184  zzwhN7x37nyjP0ZM8oiHmw   \n",
       "175185  zzwicjPC9g246MK2M1ZFBA   \n",
       "175186  zzzaIBwimxVej4tY6qFOUQ   \n",
       "\n",
       "                                                     date  \n",
       "0       2016-04-26 19:49:16, 2016-08-30 18:36:57, 2016...  \n",
       "1       2011-06-04 18:22:23, 2011-07-23 23:51:33, 2012...  \n",
       "2       2014-12-29 19:25:50, 2015-01-17 01:49:14, 2015...  \n",
       "3                                     2016-07-08 16:43:30  \n",
       "4       2010-06-26 17:39:07, 2010-08-01 20:06:21, 2010...  \n",
       "...                                                   ...  \n",
       "175182  2017-05-06 20:05:15, 2017-05-12 22:37:03, 2017...  \n",
       "175183  2010-02-16 02:09:56, 2010-07-05 05:40:48, 2010...  \n",
       "175184  2016-03-06 13:27:02, 2016-03-09 00:41:53, 2016...  \n",
       "175185  2012-09-22 00:26:15, 2012-09-23 20:12:00, 2012...  \n",
       "175186  2012-10-12 16:26:35, 2012-10-19 19:31:14, 2012...  \n",
       "\n",
       "[175187 rows x 2 columns]"
      ]
     },
     "execution_count": 43,
     "metadata": {},
     "output_type": "execute_result"
    }
   ],
   "source": [
    "# Review the first and last few records of the checkin table\n",
    "checkin"
   ]
  },
  {
   "cell_type": "code",
   "execution_count": 44,
   "metadata": {},
   "outputs": [
    {
     "name": "stdout",
     "output_type": "stream",
     "text": [
      "<class 'str'>\n"
     ]
    },
    {
     "data": {
      "text/plain": [
       "'2016-04-26 19:49:16, 2016-08-30 18:36:57, 2016-10-15 02:45:18, 2016-11-18 01:54:50, 2017-04-20 18:39:06, 2017-05-03 17:58:02, 2019-03-19 22:04:48'"
      ]
     },
     "execution_count": 44,
     "metadata": {},
     "output_type": "execute_result"
    }
   ],
   "source": [
    "# Review the first value in 'date' column\n",
    "print(type(checkin.iloc[0,1]))\n",
    "checkin.iloc[0,1]"
   ]
  },
  {
   "cell_type": "markdown",
   "metadata": {},
   "source": [
    "Here we see that checkin table exists solely to provie a list of dates and times when users have \"checked into\" each respective restaurant. We can use this data to determine those restaurants that are trending up or down based on the frequency of their \"check-ins\". \n",
    "\n",
    "This will help us avoid the problem of providing stale recommendations."
   ]
  },
  {
   "cell_type": "code",
   "execution_count": 45,
   "metadata": {},
   "outputs": [],
   "source": [
    "# Create a series of just the `business_id` values from our filtered down list of restaurants\n",
    "business_id = business['business_id']"
   ]
  },
  {
   "cell_type": "code",
   "execution_count": 46,
   "metadata": {},
   "outputs": [],
   "source": [
    "# Complete an inner join of the checkin table using our list of filtered down 'business_id' values\n",
    "checkin = pd.merge(checkin, business_id, on = 'business_id', how = 'inner')"
   ]
  },
  {
   "cell_type": "code",
   "execution_count": 47,
   "metadata": {},
   "outputs": [
    {
     "data": {
      "text/plain": [
       "(6400, 2)"
      ]
     },
     "execution_count": 47,
     "metadata": {},
     "output_type": "execute_result"
    }
   ],
   "source": [
    "# Review the new shape of the checkin table\n",
    "checkin.shape"
   ]
  },
  {
   "cell_type": "code",
   "execution_count": 48,
   "metadata": {},
   "outputs": [],
   "source": [
    "# Reset the index values of the checkin table\n",
    "checkin.reset_index(inplace = True)\n",
    "\n",
    "# Drop the newly created index column as it is now redundant\n",
    "checkin.drop(columns = 'index', inplace = True)"
   ]
  },
  {
   "cell_type": "code",
   "execution_count": 49,
   "metadata": {},
   "outputs": [],
   "source": [
    "# Save the updated checkin table to a .pkl file for use in future notebooks\n",
    "checkin.to_pickle('data/user/checkin.pkl')"
   ]
  },
  {
   "cell_type": "markdown",
   "metadata": {},
   "source": [
    "***\n",
    "\n",
    "## 3.) REVIEW TABLE"
   ]
  },
  {
   "cell_type": "markdown",
   "metadata": {},
   "source": [
    "Note: Due to the very large size of the `review.json` file (over 6 GBs), pandas does not allow me to read-in the entire file into memory in one step. To overcome this obstacle, we will read in the data from the .json file in 'chunks' using the `chunksize` parameter within the `pd.read_json()` function.\n",
    "\n",
    "We will then complete an inner join on each individual chunk of the `review` table using our filtered down list of `business_id` values.\n",
    "\n",
    "Reference to the blog where I learnt how to use the chunking functionality of the `read_json` function:\n",
    "\n",
    "https://towardsdatascience.com/converting-yelp-dataset-to-csv-using-pandas-2a4c8f03bd88"
   ]
  },
  {
   "cell_type": "code",
   "execution_count": 50,
   "metadata": {},
   "outputs": [
    {
     "data": {
      "text/plain": [
       "pandas.io.json._json.JsonReader"
      ]
     },
     "execution_count": 50,
     "metadata": {},
     "output_type": "execute_result"
    }
   ],
   "source": [
    "# Read in review table in chunks of 100K records at a time\n",
    "review_chunks = pd.read_json('data/yelp_dataset/yelp_academic_dataset_review.json', lines = True, chunksize = 100000)\n",
    "\n",
    "# Show the data type of the newly created 'review_chunks' object\n",
    "type(review_chunks)"
   ]
  },
  {
   "cell_type": "code",
   "execution_count": 51,
   "metadata": {},
   "outputs": [
    {
     "name": "stdout",
     "output_type": "stream",
     "text": [
      "4342\n",
      "4274\n",
      "4187\n",
      "4280\n",
      "4100\n",
      "3972\n",
      "3530\n",
      "3883\n",
      "5226\n",
      "5112\n",
      "5072\n",
      "5037\n",
      "4910\n",
      "4733\n",
      "4368\n",
      "4377\n",
      "4985\n",
      "4915\n",
      "4981\n",
      "4928\n",
      "4825\n",
      "4521\n",
      "4379\n",
      "4272\n",
      "4792\n",
      "4643\n",
      "4517\n",
      "4838\n",
      "4521\n",
      "4517\n",
      "4259\n",
      "4099\n",
      "4882\n",
      "5124\n",
      "5211\n",
      "5311\n",
      "4991\n",
      "4751\n",
      "4084\n",
      "4017\n",
      "4218\n",
      "4508\n",
      "4467\n",
      "4479\n",
      "4436\n",
      "4384\n",
      "4088\n",
      "3886\n",
      "5057\n",
      "5422\n",
      "5514\n",
      "5384\n",
      "5144\n",
      "5181\n",
      "4349\n",
      "4167\n",
      "4872\n",
      "4701\n",
      "4689\n",
      "4802\n",
      "4650\n",
      "4669\n",
      "4123\n",
      "3839\n",
      "5901\n",
      "6536\n",
      "6492\n",
      "6444\n",
      "6300\n",
      "6269\n",
      "4857\n",
      "4513\n",
      "4552\n",
      "4484\n",
      "4441\n",
      "4562\n",
      "4438\n",
      "4495\n",
      "4129\n",
      "4139\n",
      "751\n",
      "CPU times: user 1min 34s, sys: 12.7 s, total: 1min 47s\n",
      "Wall time: 1min 47s\n"
     ]
    }
   ],
   "source": [
    "%%time\n",
    "# Capture the cell execution time (approx. 1 min 50 sec. for my computer)\n",
    "\n",
    "# Create an empty list to store each individual chunk (after we have filtered down the records)\n",
    "merged_chunk_list = []\n",
    "\n",
    "# Loop over the different chunks of review data\n",
    "for review_chunk in review_chunks:\n",
    "    \n",
    "    # Complete an inner join between each chunk of the review table and our list of 'business_id' values\n",
    "    merged_chunk = pd.merge(review_chunk, business_id, on = 'business_id', how = 'inner')\n",
    "    \n",
    "    # Print the number of records remaining for each individual chunk after the inner join\n",
    "    # This will also serve as a progress indicator as this cell will take a lot of time\n",
    "    print(merged_chunk.shape[0])\n",
    "    \n",
    "    # Append the remaining records for each individual chunk into our list of merged chunks\n",
    "    merged_chunk_list.append(merged_chunk)"
   ]
  },
  {
   "cell_type": "code",
   "execution_count": 52,
   "metadata": {},
   "outputs": [],
   "source": [
    "# Combine the list of individual chunks into one single data-frame using an outer join\n",
    "# Setting 'ignore_index' = True will ignore the index value of each individual chunk and thus create a new index only using the total number of records being combined\n",
    "review = pd.concat(merged_chunk_list, ignore_index = True, join = 'outer')"
   ]
  },
  {
   "cell_type": "code",
   "execution_count": 53,
   "metadata": {},
   "outputs": [
    {
     "name": "stdout",
     "output_type": "stream",
     "text": [
      "<class 'pandas.core.frame.DataFrame'>\n",
      "RangeIndex: 378098 entries, 0 to 378097\n",
      "Data columns (total 9 columns):\n",
      " #   Column       Non-Null Count   Dtype         \n",
      "---  ------       --------------   -----         \n",
      " 0   review_id    378098 non-null  object        \n",
      " 1   user_id      378098 non-null  object        \n",
      " 2   business_id  378098 non-null  object        \n",
      " 3   stars        378098 non-null  int64         \n",
      " 4   useful       378098 non-null  int64         \n",
      " 5   funny        378098 non-null  int64         \n",
      " 6   cool         378098 non-null  int64         \n",
      " 7   text         378098 non-null  object        \n",
      " 8   date         378098 non-null  datetime64[ns]\n",
      "dtypes: datetime64[ns](1), int64(4), object(4)\n",
      "memory usage: 26.0+ MB\n"
     ]
    }
   ],
   "source": [
    "# Review the contents of the review table\n",
    "review.info()"
   ]
  },
  {
   "cell_type": "code",
   "execution_count": 54,
   "metadata": {},
   "outputs": [
    {
     "data": {
      "text/html": [
       "<div>\n",
       "<style scoped>\n",
       "    .dataframe tbody tr th:only-of-type {\n",
       "        vertical-align: middle;\n",
       "    }\n",
       "\n",
       "    .dataframe tbody tr th {\n",
       "        vertical-align: top;\n",
       "    }\n",
       "\n",
       "    .dataframe thead th {\n",
       "        text-align: right;\n",
       "    }\n",
       "</style>\n",
       "<table border=\"1\" class=\"dataframe\">\n",
       "  <thead>\n",
       "    <tr style=\"text-align: right;\">\n",
       "      <th></th>\n",
       "      <th>review_id</th>\n",
       "      <th>user_id</th>\n",
       "      <th>business_id</th>\n",
       "      <th>stars</th>\n",
       "      <th>useful</th>\n",
       "      <th>funny</th>\n",
       "      <th>cool</th>\n",
       "      <th>text</th>\n",
       "      <th>date</th>\n",
       "    </tr>\n",
       "  </thead>\n",
       "  <tbody>\n",
       "    <tr>\n",
       "      <th>0</th>\n",
       "      <td>Tyx7AxYQfSRnBFUIXUJwFA</td>\n",
       "      <td>HJECayULRM-6xh2GCCvLiA</td>\n",
       "      <td>l-nL4BmhzpZjcavooO48PQ</td>\n",
       "      <td>4</td>\n",
       "      <td>2</td>\n",
       "      <td>1</td>\n",
       "      <td>1</td>\n",
       "      <td>ORDER In (Delivery) Review\\n\\nI discovered thi...</td>\n",
       "      <td>2015-10-17 01:38:13</td>\n",
       "    </tr>\n",
       "    <tr>\n",
       "      <th>1</th>\n",
       "      <td>KBCqABnVOKakrHgJexftCw</td>\n",
       "      <td>n8sZMywJ2q-A12BIewfCFA</td>\n",
       "      <td>l-nL4BmhzpZjcavooO48PQ</td>\n",
       "      <td>5</td>\n",
       "      <td>1</td>\n",
       "      <td>0</td>\n",
       "      <td>0</td>\n",
       "      <td>The Wokker is the best, most authentic Chinese...</td>\n",
       "      <td>2012-12-04 23:28:29</td>\n",
       "    </tr>\n",
       "    <tr>\n",
       "      <th>2</th>\n",
       "      <td>G2OVt3FJRvZOSneyKiJiCg</td>\n",
       "      <td>F3Mu8M7bGbW960OwTvPnSw</td>\n",
       "      <td>l-nL4BmhzpZjcavooO48PQ</td>\n",
       "      <td>1</td>\n",
       "      <td>0</td>\n",
       "      <td>0</td>\n",
       "      <td>0</td>\n",
       "      <td>In Toronto on business. Ordered for room servi...</td>\n",
       "      <td>2018-06-19 22:21:31</td>\n",
       "    </tr>\n",
       "    <tr>\n",
       "      <th>3</th>\n",
       "      <td>xr8SzeX2KQFRi0j0NGNvPg</td>\n",
       "      <td>_kHCQq3jwjcwObk2nfuVpQ</td>\n",
       "      <td>l-nL4BmhzpZjcavooO48PQ</td>\n",
       "      <td>4</td>\n",
       "      <td>0</td>\n",
       "      <td>0</td>\n",
       "      <td>0</td>\n",
       "      <td>Great lunch specials with awesome quality and ...</td>\n",
       "      <td>2014-09-10 17:50:12</td>\n",
       "    </tr>\n",
       "    <tr>\n",
       "      <th>4</th>\n",
       "      <td>tHmijAvf0AC0vhXhOWF_Hw</td>\n",
       "      <td>bRWBfRJEtf6N-wQen7VFsg</td>\n",
       "      <td>l-nL4BmhzpZjcavooO48PQ</td>\n",
       "      <td>1</td>\n",
       "      <td>0</td>\n",
       "      <td>0</td>\n",
       "      <td>0</td>\n",
       "      <td>We've ordered delivery from this restaurant fo...</td>\n",
       "      <td>2013-02-25 00:18:21</td>\n",
       "    </tr>\n",
       "    <tr>\n",
       "      <th>...</th>\n",
       "      <td>...</td>\n",
       "      <td>...</td>\n",
       "      <td>...</td>\n",
       "      <td>...</td>\n",
       "      <td>...</td>\n",
       "      <td>...</td>\n",
       "      <td>...</td>\n",
       "      <td>...</td>\n",
       "      <td>...</td>\n",
       "    </tr>\n",
       "    <tr>\n",
       "      <th>378093</th>\n",
       "      <td>vW6nh0OiTdUK6PLHmVgPTA</td>\n",
       "      <td>MdlfKwGc4eVQy9veG7OlGQ</td>\n",
       "      <td>_PqvLxLW1uZJlJZzGMWErQ</td>\n",
       "      <td>4</td>\n",
       "      <td>1</td>\n",
       "      <td>0</td>\n",
       "      <td>0</td>\n",
       "      <td>I was craving bubble tea while walking downtow...</td>\n",
       "      <td>2018-01-21 17:01:12</td>\n",
       "    </tr>\n",
       "    <tr>\n",
       "      <th>378094</th>\n",
       "      <td>us5bXrHs6U3Pxto8eZqHug</td>\n",
       "      <td>tpMiI4-FkDK5GgTYfyDitA</td>\n",
       "      <td>AVqjAx6j4HAvUb8t3_lv8Q</td>\n",
       "      <td>4</td>\n",
       "      <td>0</td>\n",
       "      <td>0</td>\n",
       "      <td>0</td>\n",
       "      <td>If THIS is a Canadian \"Dive Bar\" I'm down with...</td>\n",
       "      <td>2019-09-12 01:07:18</td>\n",
       "    </tr>\n",
       "    <tr>\n",
       "      <th>378095</th>\n",
       "      <td>8FDrv8VbJVjAjTEQHojQzQ</td>\n",
       "      <td>zsJFjhBQEFQ6gJ7BsNM_Ug</td>\n",
       "      <td>AY4WY_rfrQum3Ad_ohNhVw</td>\n",
       "      <td>4</td>\n",
       "      <td>3</td>\n",
       "      <td>0</td>\n",
       "      <td>1</td>\n",
       "      <td>Purchased 6 samosas of different fillings with...</td>\n",
       "      <td>2018-12-17 19:29:28</td>\n",
       "    </tr>\n",
       "    <tr>\n",
       "      <th>378096</th>\n",
       "      <td>rBfr17beQCItyFrqdxOFEw</td>\n",
       "      <td>O8kmR1np3bcF_--U1vDkYA</td>\n",
       "      <td>5_2Lls-h_shbRGyUruLlTQ</td>\n",
       "      <td>5</td>\n",
       "      <td>2</td>\n",
       "      <td>0</td>\n",
       "      <td>0</td>\n",
       "      <td>Come for the food but stay for the staff! \\n\\n...</td>\n",
       "      <td>2015-04-16 02:27:54</td>\n",
       "    </tr>\n",
       "    <tr>\n",
       "      <th>378097</th>\n",
       "      <td>2By_gXjZCbiEE1ZTO6hDcQ</td>\n",
       "      <td>sYl1niCXXzFbyI4UPouM3w</td>\n",
       "      <td>aFQQMQlUIW9KajS6oH5kyw</td>\n",
       "      <td>4</td>\n",
       "      <td>2</td>\n",
       "      <td>4</td>\n",
       "      <td>4</td>\n",
       "      <td>It's a Domino's Pizza. Nice enough staff, open...</td>\n",
       "      <td>2018-06-24 04:33:19</td>\n",
       "    </tr>\n",
       "  </tbody>\n",
       "</table>\n",
       "<p>378098 rows × 9 columns</p>\n",
       "</div>"
      ],
      "text/plain": [
       "                     review_id                 user_id  \\\n",
       "0       Tyx7AxYQfSRnBFUIXUJwFA  HJECayULRM-6xh2GCCvLiA   \n",
       "1       KBCqABnVOKakrHgJexftCw  n8sZMywJ2q-A12BIewfCFA   \n",
       "2       G2OVt3FJRvZOSneyKiJiCg  F3Mu8M7bGbW960OwTvPnSw   \n",
       "3       xr8SzeX2KQFRi0j0NGNvPg  _kHCQq3jwjcwObk2nfuVpQ   \n",
       "4       tHmijAvf0AC0vhXhOWF_Hw  bRWBfRJEtf6N-wQen7VFsg   \n",
       "...                        ...                     ...   \n",
       "378093  vW6nh0OiTdUK6PLHmVgPTA  MdlfKwGc4eVQy9veG7OlGQ   \n",
       "378094  us5bXrHs6U3Pxto8eZqHug  tpMiI4-FkDK5GgTYfyDitA   \n",
       "378095  8FDrv8VbJVjAjTEQHojQzQ  zsJFjhBQEFQ6gJ7BsNM_Ug   \n",
       "378096  rBfr17beQCItyFrqdxOFEw  O8kmR1np3bcF_--U1vDkYA   \n",
       "378097  2By_gXjZCbiEE1ZTO6hDcQ  sYl1niCXXzFbyI4UPouM3w   \n",
       "\n",
       "                   business_id  stars  useful  funny  cool  \\\n",
       "0       l-nL4BmhzpZjcavooO48PQ      4       2      1     1   \n",
       "1       l-nL4BmhzpZjcavooO48PQ      5       1      0     0   \n",
       "2       l-nL4BmhzpZjcavooO48PQ      1       0      0     0   \n",
       "3       l-nL4BmhzpZjcavooO48PQ      4       0      0     0   \n",
       "4       l-nL4BmhzpZjcavooO48PQ      1       0      0     0   \n",
       "...                        ...    ...     ...    ...   ...   \n",
       "378093  _PqvLxLW1uZJlJZzGMWErQ      4       1      0     0   \n",
       "378094  AVqjAx6j4HAvUb8t3_lv8Q      4       0      0     0   \n",
       "378095  AY4WY_rfrQum3Ad_ohNhVw      4       3      0     1   \n",
       "378096  5_2Lls-h_shbRGyUruLlTQ      5       2      0     0   \n",
       "378097  aFQQMQlUIW9KajS6oH5kyw      4       2      4     4   \n",
       "\n",
       "                                                     text                date  \n",
       "0       ORDER In (Delivery) Review\\n\\nI discovered thi... 2015-10-17 01:38:13  \n",
       "1       The Wokker is the best, most authentic Chinese... 2012-12-04 23:28:29  \n",
       "2       In Toronto on business. Ordered for room servi... 2018-06-19 22:21:31  \n",
       "3       Great lunch specials with awesome quality and ... 2014-09-10 17:50:12  \n",
       "4       We've ordered delivery from this restaurant fo... 2013-02-25 00:18:21  \n",
       "...                                                   ...                 ...  \n",
       "378093  I was craving bubble tea while walking downtow... 2018-01-21 17:01:12  \n",
       "378094  If THIS is a Canadian \"Dive Bar\" I'm down with... 2019-09-12 01:07:18  \n",
       "378095  Purchased 6 samosas of different fillings with... 2018-12-17 19:29:28  \n",
       "378096  Come for the food but stay for the staff! \\n\\n... 2015-04-16 02:27:54  \n",
       "378097  It's a Domino's Pizza. Nice enough staff, open... 2018-06-24 04:33:19  \n",
       "\n",
       "[378098 rows x 9 columns]"
      ]
     },
     "execution_count": 54,
     "metadata": {},
     "output_type": "execute_result"
    }
   ],
   "source": [
    "# Review the first and last few records of the review table\n",
    "review"
   ]
  },
  {
   "cell_type": "code",
   "execution_count": 55,
   "metadata": {},
   "outputs": [
    {
     "name": "stdout",
     "output_type": "stream",
     "text": [
      "<class 'str'>\n"
     ]
    },
    {
     "data": {
      "text/plain": [
       "'ORDER In (Delivery) Review\\n\\nI discovered this place from the front desk of the airport hotel and they recommended it highly. I called to place my order for Delivery to my room. They were very accommodating.\\n\\nWon Ton Soup - nice broth and tender won tons.\\n\\nChicken with Diced vegetables and Cashews - again, fresh vegetables were used, and good sized pieces of chicken.\\n\\nCrispy Beef - much like a Ginger Beef, nice serving of Beef with a sweet chilli sauce. Very tasty.\\n\\nBroccoli in Garlic sauce - came with peppers,Onions , Broccoli was not over done.\\n\\nAll in all for Delivery , this was really good. I am used to going to Authentic Asian in Vancouver. This hit the spot, and they also sent me a nice tub of Chilli Oil because I like it Hot.'"
      ]
     },
     "execution_count": 55,
     "metadata": {},
     "output_type": "execute_result"
    }
   ],
   "source": [
    "# Review the first value in 'text' column\n",
    "print(type(review.iloc[0,7]))\n",
    "review.iloc[0,7]"
   ]
  },
  {
   "cell_type": "code",
   "execution_count": 56,
   "metadata": {},
   "outputs": [],
   "source": [
    "# Save the updated review table to a .pkl file for use in future notebooks\n",
    "review.to_pickle('data/user/review.pkl')"
   ]
  },
  {
   "cell_type": "markdown",
   "metadata": {},
   "source": [
    "***\n",
    "\n",
    "## 4.) TIP TABLE"
   ]
  },
  {
   "cell_type": "code",
   "execution_count": 57,
   "metadata": {},
   "outputs": [],
   "source": [
    "# Read in tip table\n",
    "tip = pd.read_json('data/yelp_dataset/yelp_academic_dataset_tip.json', lines = True)"
   ]
  },
  {
   "cell_type": "code",
   "execution_count": 58,
   "metadata": {},
   "outputs": [
    {
     "name": "stdout",
     "output_type": "stream",
     "text": [
      "<class 'pandas.core.frame.DataFrame'>\n",
      "RangeIndex: 1320761 entries, 0 to 1320760\n",
      "Data columns (total 5 columns):\n",
      " #   Column            Non-Null Count    Dtype         \n",
      "---  ------            --------------    -----         \n",
      " 0   user_id           1320761 non-null  object        \n",
      " 1   business_id       1320761 non-null  object        \n",
      " 2   text              1320761 non-null  object        \n",
      " 3   date              1320761 non-null  datetime64[ns]\n",
      " 4   compliment_count  1320761 non-null  int64         \n",
      "dtypes: datetime64[ns](1), int64(1), object(3)\n",
      "memory usage: 50.4+ MB\n"
     ]
    }
   ],
   "source": [
    "# Review the contents of the tip table\n",
    "tip.info()"
   ]
  },
  {
   "cell_type": "code",
   "execution_count": 59,
   "metadata": {},
   "outputs": [
    {
     "data": {
      "text/html": [
       "<div>\n",
       "<style scoped>\n",
       "    .dataframe tbody tr th:only-of-type {\n",
       "        vertical-align: middle;\n",
       "    }\n",
       "\n",
       "    .dataframe tbody tr th {\n",
       "        vertical-align: top;\n",
       "    }\n",
       "\n",
       "    .dataframe thead th {\n",
       "        text-align: right;\n",
       "    }\n",
       "</style>\n",
       "<table border=\"1\" class=\"dataframe\">\n",
       "  <thead>\n",
       "    <tr style=\"text-align: right;\">\n",
       "      <th></th>\n",
       "      <th>user_id</th>\n",
       "      <th>business_id</th>\n",
       "      <th>text</th>\n",
       "      <th>date</th>\n",
       "      <th>compliment_count</th>\n",
       "    </tr>\n",
       "  </thead>\n",
       "  <tbody>\n",
       "    <tr>\n",
       "      <th>0</th>\n",
       "      <td>hf27xTME3EiCp6NL6VtWZQ</td>\n",
       "      <td>UYX5zL_Xj9WEc_Wp-FrqHw</td>\n",
       "      <td>Here for a quick mtg</td>\n",
       "      <td>2013-11-26 18:20:08</td>\n",
       "      <td>0</td>\n",
       "    </tr>\n",
       "    <tr>\n",
       "      <th>1</th>\n",
       "      <td>uEvusDwoSymbJJ0auR3muQ</td>\n",
       "      <td>Ch3HkwQYv1YKw_FO06vBWA</td>\n",
       "      <td>Cucumber strawberry refresher</td>\n",
       "      <td>2014-06-15 22:26:45</td>\n",
       "      <td>0</td>\n",
       "    </tr>\n",
       "    <tr>\n",
       "      <th>2</th>\n",
       "      <td>AY-laIws3S7YXNl_f_D6rQ</td>\n",
       "      <td>rDoT-MgxGRiYqCmi0bG10g</td>\n",
       "      <td>Very nice good service good food</td>\n",
       "      <td>2016-07-18 22:03:42</td>\n",
       "      <td>0</td>\n",
       "    </tr>\n",
       "    <tr>\n",
       "      <th>3</th>\n",
       "      <td>Ue_7yUlkEbX4AhnYdUfL7g</td>\n",
       "      <td>OHXnDV01gLokiX1ELaQufA</td>\n",
       "      <td>It's a small place. The staff is friendly.</td>\n",
       "      <td>2014-06-06 01:10:34</td>\n",
       "      <td>0</td>\n",
       "    </tr>\n",
       "    <tr>\n",
       "      <th>4</th>\n",
       "      <td>LltbT_fUMqZ-ZJP-vJ84IQ</td>\n",
       "      <td>GMrwDXRlAZU2zj5nH6l4vQ</td>\n",
       "      <td>8 sandwiches, $24 total...what a bargain!!! An...</td>\n",
       "      <td>2011-04-08 18:12:01</td>\n",
       "      <td>0</td>\n",
       "    </tr>\n",
       "    <tr>\n",
       "      <th>...</th>\n",
       "      <td>...</td>\n",
       "      <td>...</td>\n",
       "      <td>...</td>\n",
       "      <td>...</td>\n",
       "      <td>...</td>\n",
       "    </tr>\n",
       "    <tr>\n",
       "      <th>1320756</th>\n",
       "      <td>ayaRhAPJxrP-AQq6KeiBhg</td>\n",
       "      <td>ImkAc07Pppz0D3KC4iBTng</td>\n",
       "      <td>I love this place</td>\n",
       "      <td>2019-05-03 23:53:17</td>\n",
       "      <td>0</td>\n",
       "    </tr>\n",
       "    <tr>\n",
       "      <th>1320757</th>\n",
       "      <td>PWX9qW1zOXKyILZAtP8OTQ</td>\n",
       "      <td>nizlIF4pl2_6zZkFITBApA</td>\n",
       "      <td>Amazing cookies, great staff, great delivery! ...</td>\n",
       "      <td>2019-05-02 00:09:01</td>\n",
       "      <td>0</td>\n",
       "    </tr>\n",
       "    <tr>\n",
       "      <th>1320758</th>\n",
       "      <td>99L0bntmbChEwShH440C2Q</td>\n",
       "      <td>10jP6njt3elD90gaHF1FBQ</td>\n",
       "      <td>Just perfect. Had this ice cream 3 times in 1 ...</td>\n",
       "      <td>2019-08-05 01:53:37</td>\n",
       "      <td>0</td>\n",
       "    </tr>\n",
       "    <tr>\n",
       "      <th>1320759</th>\n",
       "      <td>I8DpwNemLrFnAuCAYmu_sw</td>\n",
       "      <td>gA9hCYY7MYl9oZ3aym5dvw</td>\n",
       "      <td>Orgasm rolls are on point!!!</td>\n",
       "      <td>2019-03-29 23:36:01</td>\n",
       "      <td>0</td>\n",
       "    </tr>\n",
       "    <tr>\n",
       "      <th>1320760</th>\n",
       "      <td>wih8f09C3axtuuiz9t-_yQ</td>\n",
       "      <td>84RdNjDKXKzqZlSlT6G6PA</td>\n",
       "      <td>Slow service, rude staff.</td>\n",
       "      <td>2019-08-30 18:00:43</td>\n",
       "      <td>0</td>\n",
       "    </tr>\n",
       "  </tbody>\n",
       "</table>\n",
       "<p>1320761 rows × 5 columns</p>\n",
       "</div>"
      ],
      "text/plain": [
       "                        user_id             business_id  \\\n",
       "0        hf27xTME3EiCp6NL6VtWZQ  UYX5zL_Xj9WEc_Wp-FrqHw   \n",
       "1        uEvusDwoSymbJJ0auR3muQ  Ch3HkwQYv1YKw_FO06vBWA   \n",
       "2        AY-laIws3S7YXNl_f_D6rQ  rDoT-MgxGRiYqCmi0bG10g   \n",
       "3        Ue_7yUlkEbX4AhnYdUfL7g  OHXnDV01gLokiX1ELaQufA   \n",
       "4        LltbT_fUMqZ-ZJP-vJ84IQ  GMrwDXRlAZU2zj5nH6l4vQ   \n",
       "...                         ...                     ...   \n",
       "1320756  ayaRhAPJxrP-AQq6KeiBhg  ImkAc07Pppz0D3KC4iBTng   \n",
       "1320757  PWX9qW1zOXKyILZAtP8OTQ  nizlIF4pl2_6zZkFITBApA   \n",
       "1320758  99L0bntmbChEwShH440C2Q  10jP6njt3elD90gaHF1FBQ   \n",
       "1320759  I8DpwNemLrFnAuCAYmu_sw  gA9hCYY7MYl9oZ3aym5dvw   \n",
       "1320760  wih8f09C3axtuuiz9t-_yQ  84RdNjDKXKzqZlSlT6G6PA   \n",
       "\n",
       "                                                      text  \\\n",
       "0                                     Here for a quick mtg   \n",
       "1                            Cucumber strawberry refresher   \n",
       "2                         Very nice good service good food   \n",
       "3               It's a small place. The staff is friendly.   \n",
       "4        8 sandwiches, $24 total...what a bargain!!! An...   \n",
       "...                                                    ...   \n",
       "1320756                                  I love this place   \n",
       "1320757  Amazing cookies, great staff, great delivery! ...   \n",
       "1320758  Just perfect. Had this ice cream 3 times in 1 ...   \n",
       "1320759                       Orgasm rolls are on point!!!   \n",
       "1320760                          Slow service, rude staff.   \n",
       "\n",
       "                       date  compliment_count  \n",
       "0       2013-11-26 18:20:08                 0  \n",
       "1       2014-06-15 22:26:45                 0  \n",
       "2       2016-07-18 22:03:42                 0  \n",
       "3       2014-06-06 01:10:34                 0  \n",
       "4       2011-04-08 18:12:01                 0  \n",
       "...                     ...               ...  \n",
       "1320756 2019-05-03 23:53:17                 0  \n",
       "1320757 2019-05-02 00:09:01                 0  \n",
       "1320758 2019-08-05 01:53:37                 0  \n",
       "1320759 2019-03-29 23:36:01                 0  \n",
       "1320760 2019-08-30 18:00:43                 0  \n",
       "\n",
       "[1320761 rows x 5 columns]"
      ]
     },
     "execution_count": 59,
     "metadata": {},
     "output_type": "execute_result"
    }
   ],
   "source": [
    "# Review the first and last few records of the tip table\n",
    "tip"
   ]
  },
  {
   "cell_type": "code",
   "execution_count": 60,
   "metadata": {},
   "outputs": [],
   "source": [
    "# Complete an inner join of the tip table using our list of filtered down 'business_id' values\n",
    "tip = pd.merge(tip, business_id, on = 'business_id', how = 'inner')"
   ]
  },
  {
   "cell_type": "code",
   "execution_count": 61,
   "metadata": {},
   "outputs": [
    {
     "data": {
      "text/plain": [
       "(47508, 5)"
      ]
     },
     "execution_count": 61,
     "metadata": {},
     "output_type": "execute_result"
    }
   ],
   "source": [
    "# Review the new shape of the tip table\n",
    "tip.shape"
   ]
  },
  {
   "cell_type": "code",
   "execution_count": 62,
   "metadata": {},
   "outputs": [],
   "source": [
    "# Reset the index values of the tip table\n",
    "tip.reset_index(inplace = True)\n",
    "\n",
    "# Drop the newly created index column as it is now redundant\n",
    "tip.drop(columns = 'index', inplace = True)"
   ]
  },
  {
   "cell_type": "code",
   "execution_count": 63,
   "metadata": {},
   "outputs": [],
   "source": [
    "# Save the updated tip table to a .pkl file for use in future notebooks\n",
    "tip.to_pickle('data/user/tip.pkl')"
   ]
  },
  {
   "cell_type": "markdown",
   "metadata": {},
   "source": [
    "***\n",
    "\n",
    "## 5.) USER TABLE"
   ]
  },
  {
   "cell_type": "markdown",
   "metadata": {},
   "source": [
    "Note: Just like the `review.json` file, the `user.json` file is a very large file to read in from its source (over 3 GBs). While, it can be read into memory, it takes a very long time to do. Therefore, I will use the same chunking methodology as I used to read in the `review` table to read in the `user` table.\n",
    "\n",
    "However, in this case, rather than joining values with the `business_id` values, we will be comparing each record in the `user` table with the `user_id` values from both the `review` and `tip` tables."
   ]
  },
  {
   "cell_type": "code",
   "execution_count": 64,
   "metadata": {},
   "outputs": [],
   "source": [
    "# Read in review table in chunks of 100K records at a time\n",
    "user_chunks = pd.read_json('data/yelp_dataset/yelp_academic_dataset_user.json', lines = True, chunksize = 100000)"
   ]
  },
  {
   "cell_type": "code",
   "execution_count": 65,
   "metadata": {},
   "outputs": [],
   "source": [
    "# Capture all the 'user_id' values from the 'review' table into a series\n",
    "user_id = review['user_id']"
   ]
  },
  {
   "cell_type": "code",
   "execution_count": 66,
   "metadata": {},
   "outputs": [],
   "source": [
    "# Append the 'user_id' values from the 'tip' table to the 'user_id' series\n",
    "user_id = user_id.append(tip['user_id'])"
   ]
  },
  {
   "cell_type": "code",
   "execution_count": 67,
   "metadata": {},
   "outputs": [],
   "source": [
    "# Filter and update the 'user_id' series to only include non-duplicate values\n",
    "user_id = user_id[~user_id.duplicated()]"
   ]
  },
  {
   "cell_type": "code",
   "execution_count": 68,
   "metadata": {},
   "outputs": [
    {
     "name": "stdout",
     "output_type": "stream",
     "text": [
      "9541\n",
      "8605\n",
      "6758\n",
      "6417\n",
      "6276\n",
      "6139\n",
      "5241\n",
      "5215\n",
      "4838\n",
      "4736\n",
      "4296\n",
      "4226\n",
      "4124\n",
      "3928\n",
      "3665\n",
      "3648\n",
      "3334\n",
      "3223\n",
      "3120\n",
      "2117\n",
      "CPU times: user 45.4 s, sys: 6.81 s, total: 52.2 s\n",
      "Wall time: 52.2 s\n"
     ]
    }
   ],
   "source": [
    "%%time\n",
    "# Capture the cell execution time (approx. 1 min. for my computer)\n",
    "\n",
    "# Create an empty list to store each individual chunk (after we have filtered down the records)\n",
    "merged_chunk_list = []\n",
    "\n",
    "# Loop over the different chunks of user data\n",
    "for user_chunk in user_chunks:\n",
    "    \n",
    "    # Complete an inner join between each chunk of the user table and our list of 'user_id' values\n",
    "    merged_chunk = pd.merge(user_chunk, user_id, on = 'user_id', how = 'inner')\n",
    "    \n",
    "    # Print the number of records remaining for each individual chunk after the inner join\n",
    "    # This will also serve as a progress indicator as this cell will take a lot of time\n",
    "    print(merged_chunk.shape[0])\n",
    "    \n",
    "    # Append the remaining records for each individual chunk into our list of merged chunks\n",
    "    merged_chunk_list.append(merged_chunk)"
   ]
  },
  {
   "cell_type": "code",
   "execution_count": 69,
   "metadata": {},
   "outputs": [],
   "source": [
    "# Combine the list of individual chunks into one single data-frame using an outer join\n",
    "# Setting 'ignore_index' = True will ignore the index value of each individual chunk and thus create a new index only using the total number of records being combined\n",
    "user = pd.concat(merged_chunk_list, ignore_index = True, join = 'outer')"
   ]
  },
  {
   "cell_type": "code",
   "execution_count": 70,
   "metadata": {},
   "outputs": [
    {
     "name": "stdout",
     "output_type": "stream",
     "text": [
      "<class 'pandas.core.frame.DataFrame'>\n",
      "RangeIndex: 99447 entries, 0 to 99446\n",
      "Data columns (total 22 columns):\n",
      " #   Column              Non-Null Count  Dtype  \n",
      "---  ------              --------------  -----  \n",
      " 0   user_id             99447 non-null  object \n",
      " 1   name                99447 non-null  object \n",
      " 2   review_count        99447 non-null  int64  \n",
      " 3   yelping_since       99447 non-null  object \n",
      " 4   useful              99447 non-null  int64  \n",
      " 5   funny               99447 non-null  int64  \n",
      " 6   cool                99447 non-null  int64  \n",
      " 7   elite               99447 non-null  object \n",
      " 8   friends             99447 non-null  object \n",
      " 9   fans                99447 non-null  int64  \n",
      " 10  average_stars       99447 non-null  float64\n",
      " 11  compliment_hot      99447 non-null  int64  \n",
      " 12  compliment_more     99447 non-null  int64  \n",
      " 13  compliment_profile  99447 non-null  int64  \n",
      " 14  compliment_cute     99447 non-null  int64  \n",
      " 15  compliment_list     99447 non-null  int64  \n",
      " 16  compliment_note     99447 non-null  int64  \n",
      " 17  compliment_plain    99447 non-null  int64  \n",
      " 18  compliment_cool     99447 non-null  int64  \n",
      " 19  compliment_funny    99447 non-null  int64  \n",
      " 20  compliment_writer   99447 non-null  int64  \n",
      " 21  compliment_photos   99447 non-null  int64  \n",
      "dtypes: float64(1), int64(16), object(5)\n",
      "memory usage: 16.7+ MB\n"
     ]
    }
   ],
   "source": [
    "# Review the contents of the review table\n",
    "user.info()"
   ]
  },
  {
   "cell_type": "code",
   "execution_count": 71,
   "metadata": {},
   "outputs": [
    {
     "data": {
      "text/html": [
       "<div>\n",
       "<style scoped>\n",
       "    .dataframe tbody tr th:only-of-type {\n",
       "        vertical-align: middle;\n",
       "    }\n",
       "\n",
       "    .dataframe tbody tr th {\n",
       "        vertical-align: top;\n",
       "    }\n",
       "\n",
       "    .dataframe thead th {\n",
       "        text-align: right;\n",
       "    }\n",
       "</style>\n",
       "<table border=\"1\" class=\"dataframe\">\n",
       "  <thead>\n",
       "    <tr style=\"text-align: right;\">\n",
       "      <th></th>\n",
       "      <th>user_id</th>\n",
       "      <th>name</th>\n",
       "      <th>review_count</th>\n",
       "      <th>yelping_since</th>\n",
       "      <th>useful</th>\n",
       "      <th>funny</th>\n",
       "      <th>cool</th>\n",
       "      <th>elite</th>\n",
       "      <th>friends</th>\n",
       "      <th>fans</th>\n",
       "      <th>...</th>\n",
       "      <th>compliment_more</th>\n",
       "      <th>compliment_profile</th>\n",
       "      <th>compliment_cute</th>\n",
       "      <th>compliment_list</th>\n",
       "      <th>compliment_note</th>\n",
       "      <th>compliment_plain</th>\n",
       "      <th>compliment_cool</th>\n",
       "      <th>compliment_funny</th>\n",
       "      <th>compliment_writer</th>\n",
       "      <th>compliment_photos</th>\n",
       "    </tr>\n",
       "  </thead>\n",
       "  <tbody>\n",
       "    <tr>\n",
       "      <th>0</th>\n",
       "      <td>I_6wY8_RsewziNnKhGZg4g</td>\n",
       "      <td>Jeff</td>\n",
       "      <td>405</td>\n",
       "      <td>2010-08-05 18:42:29</td>\n",
       "      <td>799</td>\n",
       "      <td>244</td>\n",
       "      <td>312</td>\n",
       "      <td>2010,2011,2012,2013,2014,2015,2016,2017</td>\n",
       "      <td>OGa2q6LvuQLYFUG_RCcALw, 0uM2R-uMBemiNlrFG5j56A...</td>\n",
       "      <td>13</td>\n",
       "      <td>...</td>\n",
       "      <td>8</td>\n",
       "      <td>3</td>\n",
       "      <td>0</td>\n",
       "      <td>1</td>\n",
       "      <td>19</td>\n",
       "      <td>48</td>\n",
       "      <td>76</td>\n",
       "      <td>76</td>\n",
       "      <td>14</td>\n",
       "      <td>6</td>\n",
       "    </tr>\n",
       "    <tr>\n",
       "      <th>1</th>\n",
       "      <td>q-v8elVPvKz0KvK69QSj1Q</td>\n",
       "      <td>Lisa Marie</td>\n",
       "      <td>666</td>\n",
       "      <td>2009-05-19 01:42:25</td>\n",
       "      <td>2993</td>\n",
       "      <td>1281</td>\n",
       "      <td>1832</td>\n",
       "      <td>2011,2012,2013,2014,2015,2016,2017,2018</td>\n",
       "      <td>rt1KveqwFMnkN6dXKg5Qyg, NfnKx3z7zFottS3yHabw1g...</td>\n",
       "      <td>197</td>\n",
       "      <td>...</td>\n",
       "      <td>11</td>\n",
       "      <td>11</td>\n",
       "      <td>13</td>\n",
       "      <td>7</td>\n",
       "      <td>120</td>\n",
       "      <td>150</td>\n",
       "      <td>135</td>\n",
       "      <td>135</td>\n",
       "      <td>42</td>\n",
       "      <td>72</td>\n",
       "    </tr>\n",
       "    <tr>\n",
       "      <th>2</th>\n",
       "      <td>EFM7rmwvSEUbEGMWSNCnhQ</td>\n",
       "      <td>Brittney</td>\n",
       "      <td>44</td>\n",
       "      <td>2010-03-05 04:40:37</td>\n",
       "      <td>153</td>\n",
       "      <td>71</td>\n",
       "      <td>61</td>\n",
       "      <td>2011</td>\n",
       "      <td>6k0pxvYMq3DdpO8YJGBe6A, xtB77qTiYR2VknLcmpx4ow...</td>\n",
       "      <td>4</td>\n",
       "      <td>...</td>\n",
       "      <td>4</td>\n",
       "      <td>1</td>\n",
       "      <td>0</td>\n",
       "      <td>0</td>\n",
       "      <td>18</td>\n",
       "      <td>6</td>\n",
       "      <td>12</td>\n",
       "      <td>12</td>\n",
       "      <td>4</td>\n",
       "      <td>1</td>\n",
       "    </tr>\n",
       "    <tr>\n",
       "      <th>3</th>\n",
       "      <td>dIIKEfOgo0KqUfGQvGikPg</td>\n",
       "      <td>Gabi</td>\n",
       "      <td>2061</td>\n",
       "      <td>2007-08-10 19:01:51</td>\n",
       "      <td>20024</td>\n",
       "      <td>9684</td>\n",
       "      <td>16904</td>\n",
       "      <td>2007,2008,2009,2010,2011,2012,2013,2014,2015,2...</td>\n",
       "      <td>6Y-l3x4LpUNhTBVMTFmTmA, HYNhRw_-8g660mpnwY2VJA...</td>\n",
       "      <td>971</td>\n",
       "      <td>...</td>\n",
       "      <td>85</td>\n",
       "      <td>94</td>\n",
       "      <td>231</td>\n",
       "      <td>96</td>\n",
       "      <td>1171</td>\n",
       "      <td>3272</td>\n",
       "      <td>2169</td>\n",
       "      <td>2169</td>\n",
       "      <td>463</td>\n",
       "      <td>281</td>\n",
       "    </tr>\n",
       "    <tr>\n",
       "      <th>4</th>\n",
       "      <td>q_QQ5kBBwlCcbL1s4NVK3g</td>\n",
       "      <td>Jane</td>\n",
       "      <td>1218</td>\n",
       "      <td>2005-03-14 20:26:35</td>\n",
       "      <td>15024</td>\n",
       "      <td>10028</td>\n",
       "      <td>11288</td>\n",
       "      <td>2006,2007,2008,2009,2010,2011,2012,2013,2014</td>\n",
       "      <td>F7bHTW_7Z-g2R6T7VkAOpg, 24j4WfSmbXiRUgzCNLaG9Q...</td>\n",
       "      <td>1354</td>\n",
       "      <td>...</td>\n",
       "      <td>163</td>\n",
       "      <td>190</td>\n",
       "      <td>361</td>\n",
       "      <td>147</td>\n",
       "      <td>1211</td>\n",
       "      <td>5688</td>\n",
       "      <td>2539</td>\n",
       "      <td>2539</td>\n",
       "      <td>815</td>\n",
       "      <td>323</td>\n",
       "    </tr>\n",
       "    <tr>\n",
       "      <th>...</th>\n",
       "      <td>...</td>\n",
       "      <td>...</td>\n",
       "      <td>...</td>\n",
       "      <td>...</td>\n",
       "      <td>...</td>\n",
       "      <td>...</td>\n",
       "      <td>...</td>\n",
       "      <td>...</td>\n",
       "      <td>...</td>\n",
       "      <td>...</td>\n",
       "      <td>...</td>\n",
       "      <td>...</td>\n",
       "      <td>...</td>\n",
       "      <td>...</td>\n",
       "      <td>...</td>\n",
       "      <td>...</td>\n",
       "      <td>...</td>\n",
       "      <td>...</td>\n",
       "      <td>...</td>\n",
       "      <td>...</td>\n",
       "      <td>...</td>\n",
       "    </tr>\n",
       "    <tr>\n",
       "      <th>99442</th>\n",
       "      <td>F7iIYDy7Z1wVGk7eD3XuVg</td>\n",
       "      <td>Umang</td>\n",
       "      <td>1</td>\n",
       "      <td>2017-01-29 08:21:01</td>\n",
       "      <td>0</td>\n",
       "      <td>0</td>\n",
       "      <td>0</td>\n",
       "      <td></td>\n",
       "      <td>None</td>\n",
       "      <td>0</td>\n",
       "      <td>...</td>\n",
       "      <td>0</td>\n",
       "      <td>0</td>\n",
       "      <td>0</td>\n",
       "      <td>0</td>\n",
       "      <td>0</td>\n",
       "      <td>0</td>\n",
       "      <td>0</td>\n",
       "      <td>0</td>\n",
       "      <td>0</td>\n",
       "      <td>0</td>\n",
       "    </tr>\n",
       "    <tr>\n",
       "      <th>99443</th>\n",
       "      <td>F2wMZqrw5Q0maHQnFKRQqg</td>\n",
       "      <td>Pavel</td>\n",
       "      <td>1</td>\n",
       "      <td>2014-07-08 23:54:53</td>\n",
       "      <td>11</td>\n",
       "      <td>0</td>\n",
       "      <td>1</td>\n",
       "      <td></td>\n",
       "      <td>None</td>\n",
       "      <td>0</td>\n",
       "      <td>...</td>\n",
       "      <td>0</td>\n",
       "      <td>0</td>\n",
       "      <td>0</td>\n",
       "      <td>0</td>\n",
       "      <td>1</td>\n",
       "      <td>0</td>\n",
       "      <td>0</td>\n",
       "      <td>0</td>\n",
       "      <td>0</td>\n",
       "      <td>0</td>\n",
       "    </tr>\n",
       "    <tr>\n",
       "      <th>99444</th>\n",
       "      <td>I6Gfu_9dGlCu8BzkEYFVxA</td>\n",
       "      <td>Tigger</td>\n",
       "      <td>1</td>\n",
       "      <td>2018-06-09 15:13:27</td>\n",
       "      <td>0</td>\n",
       "      <td>0</td>\n",
       "      <td>0</td>\n",
       "      <td></td>\n",
       "      <td>None</td>\n",
       "      <td>0</td>\n",
       "      <td>...</td>\n",
       "      <td>0</td>\n",
       "      <td>0</td>\n",
       "      <td>0</td>\n",
       "      <td>0</td>\n",
       "      <td>0</td>\n",
       "      <td>0</td>\n",
       "      <td>0</td>\n",
       "      <td>0</td>\n",
       "      <td>0</td>\n",
       "      <td>0</td>\n",
       "    </tr>\n",
       "    <tr>\n",
       "      <th>99445</th>\n",
       "      <td>N8CPLujF2xJE9x74B1ew8g</td>\n",
       "      <td>Steph</td>\n",
       "      <td>1</td>\n",
       "      <td>2014-08-01 15:12:58</td>\n",
       "      <td>0</td>\n",
       "      <td>0</td>\n",
       "      <td>0</td>\n",
       "      <td></td>\n",
       "      <td>None</td>\n",
       "      <td>0</td>\n",
       "      <td>...</td>\n",
       "      <td>0</td>\n",
       "      <td>0</td>\n",
       "      <td>0</td>\n",
       "      <td>0</td>\n",
       "      <td>0</td>\n",
       "      <td>0</td>\n",
       "      <td>0</td>\n",
       "      <td>0</td>\n",
       "      <td>0</td>\n",
       "      <td>0</td>\n",
       "    </tr>\n",
       "    <tr>\n",
       "      <th>99446</th>\n",
       "      <td>-F_CADksa8TH4d1Ugjc4Rg</td>\n",
       "      <td>Auzzie</td>\n",
       "      <td>2</td>\n",
       "      <td>2016-04-04 16:28:07</td>\n",
       "      <td>1</td>\n",
       "      <td>0</td>\n",
       "      <td>0</td>\n",
       "      <td></td>\n",
       "      <td>None</td>\n",
       "      <td>0</td>\n",
       "      <td>...</td>\n",
       "      <td>0</td>\n",
       "      <td>0</td>\n",
       "      <td>0</td>\n",
       "      <td>0</td>\n",
       "      <td>0</td>\n",
       "      <td>0</td>\n",
       "      <td>0</td>\n",
       "      <td>0</td>\n",
       "      <td>0</td>\n",
       "      <td>0</td>\n",
       "    </tr>\n",
       "  </tbody>\n",
       "</table>\n",
       "<p>99447 rows × 22 columns</p>\n",
       "</div>"
      ],
      "text/plain": [
       "                      user_id        name  review_count        yelping_since  \\\n",
       "0      I_6wY8_RsewziNnKhGZg4g        Jeff           405  2010-08-05 18:42:29   \n",
       "1      q-v8elVPvKz0KvK69QSj1Q  Lisa Marie           666  2009-05-19 01:42:25   \n",
       "2      EFM7rmwvSEUbEGMWSNCnhQ    Brittney            44  2010-03-05 04:40:37   \n",
       "3      dIIKEfOgo0KqUfGQvGikPg        Gabi          2061  2007-08-10 19:01:51   \n",
       "4      q_QQ5kBBwlCcbL1s4NVK3g        Jane          1218  2005-03-14 20:26:35   \n",
       "...                       ...         ...           ...                  ...   \n",
       "99442  F7iIYDy7Z1wVGk7eD3XuVg       Umang             1  2017-01-29 08:21:01   \n",
       "99443  F2wMZqrw5Q0maHQnFKRQqg       Pavel             1  2014-07-08 23:54:53   \n",
       "99444  I6Gfu_9dGlCu8BzkEYFVxA      Tigger             1  2018-06-09 15:13:27   \n",
       "99445  N8CPLujF2xJE9x74B1ew8g       Steph             1  2014-08-01 15:12:58   \n",
       "99446  -F_CADksa8TH4d1Ugjc4Rg      Auzzie             2  2016-04-04 16:28:07   \n",
       "\n",
       "       useful  funny   cool  \\\n",
       "0         799    244    312   \n",
       "1        2993   1281   1832   \n",
       "2         153     71     61   \n",
       "3       20024   9684  16904   \n",
       "4       15024  10028  11288   \n",
       "...       ...    ...    ...   \n",
       "99442       0      0      0   \n",
       "99443      11      0      1   \n",
       "99444       0      0      0   \n",
       "99445       0      0      0   \n",
       "99446       1      0      0   \n",
       "\n",
       "                                                   elite  \\\n",
       "0                2010,2011,2012,2013,2014,2015,2016,2017   \n",
       "1                2011,2012,2013,2014,2015,2016,2017,2018   \n",
       "2                                                   2011   \n",
       "3      2007,2008,2009,2010,2011,2012,2013,2014,2015,2...   \n",
       "4           2006,2007,2008,2009,2010,2011,2012,2013,2014   \n",
       "...                                                  ...   \n",
       "99442                                                      \n",
       "99443                                                      \n",
       "99444                                                      \n",
       "99445                                                      \n",
       "99446                                                      \n",
       "\n",
       "                                                 friends  fans  ...  \\\n",
       "0      OGa2q6LvuQLYFUG_RCcALw, 0uM2R-uMBemiNlrFG5j56A...    13  ...   \n",
       "1      rt1KveqwFMnkN6dXKg5Qyg, NfnKx3z7zFottS3yHabw1g...   197  ...   \n",
       "2      6k0pxvYMq3DdpO8YJGBe6A, xtB77qTiYR2VknLcmpx4ow...     4  ...   \n",
       "3      6Y-l3x4LpUNhTBVMTFmTmA, HYNhRw_-8g660mpnwY2VJA...   971  ...   \n",
       "4      F7bHTW_7Z-g2R6T7VkAOpg, 24j4WfSmbXiRUgzCNLaG9Q...  1354  ...   \n",
       "...                                                  ...   ...  ...   \n",
       "99442                                               None     0  ...   \n",
       "99443                                               None     0  ...   \n",
       "99444                                               None     0  ...   \n",
       "99445                                               None     0  ...   \n",
       "99446                                               None     0  ...   \n",
       "\n",
       "       compliment_more  compliment_profile  compliment_cute  compliment_list  \\\n",
       "0                    8                   3                0                1   \n",
       "1                   11                  11               13                7   \n",
       "2                    4                   1                0                0   \n",
       "3                   85                  94              231               96   \n",
       "4                  163                 190              361              147   \n",
       "...                ...                 ...              ...              ...   \n",
       "99442                0                   0                0                0   \n",
       "99443                0                   0                0                0   \n",
       "99444                0                   0                0                0   \n",
       "99445                0                   0                0                0   \n",
       "99446                0                   0                0                0   \n",
       "\n",
       "       compliment_note  compliment_plain  compliment_cool  compliment_funny  \\\n",
       "0                   19                48               76                76   \n",
       "1                  120               150              135               135   \n",
       "2                   18                 6               12                12   \n",
       "3                 1171              3272             2169              2169   \n",
       "4                 1211              5688             2539              2539   \n",
       "...                ...               ...              ...               ...   \n",
       "99442                0                 0                0                 0   \n",
       "99443                1                 0                0                 0   \n",
       "99444                0                 0                0                 0   \n",
       "99445                0                 0                0                 0   \n",
       "99446                0                 0                0                 0   \n",
       "\n",
       "       compliment_writer  compliment_photos  \n",
       "0                     14                  6  \n",
       "1                     42                 72  \n",
       "2                      4                  1  \n",
       "3                    463                281  \n",
       "4                    815                323  \n",
       "...                  ...                ...  \n",
       "99442                  0                  0  \n",
       "99443                  0                  0  \n",
       "99444                  0                  0  \n",
       "99445                  0                  0  \n",
       "99446                  0                  0  \n",
       "\n",
       "[99447 rows x 22 columns]"
      ]
     },
     "execution_count": 71,
     "metadata": {},
     "output_type": "execute_result"
    }
   ],
   "source": [
    "# Review the first and last few records of the checkin table\n",
    "user"
   ]
  },
  {
   "cell_type": "code",
   "execution_count": 72,
   "metadata": {},
   "outputs": [],
   "source": [
    "# Save the updated user table to a .pkl file for use in future notebooks\n",
    "user.to_pickle('data/user/user.pkl')"
   ]
  }
 ],
 "metadata": {
  "kernelspec": {
   "display_name": "Python 3",
   "language": "python",
   "name": "python3"
  },
  "language_info": {
   "codemirror_mode": {
    "name": "ipython",
    "version": 3
   },
   "file_extension": ".py",
   "mimetype": "text/x-python",
   "name": "python",
   "nbconvert_exporter": "python",
   "pygments_lexer": "ipython3",
   "version": "3.8.5"
  }
 },
 "nbformat": 4,
 "nbformat_minor": 4
}
